{
 "cells": [
  {
   "cell_type": "markdown",
   "metadata": {},
   "source": [
    "# Project Intro\n",
    "*Nicole Basinski, Nydia Chang, Danny Wan, Jason Xing*  \n",
    "  \n",
    "As part of the Erdos May Bootcamp 2022, we submit our project using gaze position data on Atari videogames, obtained from the [Atari-HEAD: Atari Human Eye-Tracking and Demonstration Dataset](https://zenodo.org/record/3451402#.YpEEB5PML0r).  \n",
    "  \n",
    "20 Atari games were played by 4 human players in a frame-by-frame manner to obtain gaze samples, as well as associated action taken by the player, current game score, among some other information. Semi-frame-by-frame gameplay allowed for the players to make near-optimal game decisions that led to scores in the range of known human records. Semi-frame-by-frame gameplay also resulted in more accurate game state and action associations (due to removing the effect of human reaction time); this resulted in more optimal data for any supervised learning algorithms.  \n",
    "\n",
    "Regular trials were set to a 15-minute timeframe; highscore trials allowed the player to continue gameplay until they ran out of lives (up to a max of 2 hours). Each trial, whether regular or highscore, corresponds to a text file and a .tar.bz2 file. The text file recorded player actions, gaze positions, and other data for each frame during that trial, and the .tar.bz2 file includes .png images of each game frame.  \n",
    "    \n",
    "This project will use the game frames along with associated gaze positions to model the best resulting action. We focused on the Ms. Pacman game and specifically the `highscore` trials, largely for time and computational reasons. However, much of the cleaning, EDA, and modeling included in this repo would apply for other games and trials as well.\n",
    "\n",
    "TO DO: MAYBE WANT TO PUT A SUMMARIZED VERSION OF OUR KPIS/STAKEHOLDERS HERE??"
   ]
  },
  {
   "cell_type": "code",
   "execution_count": 1,
   "metadata": {},
   "outputs": [],
   "source": [
    "# imports\n",
    "import os\n",
    "import pandas as pd\n",
    "import shutil"
   ]
  },
  {
   "cell_type": "markdown",
   "metadata": {},
   "source": [
    "## Cleaning Data\n",
    "First step, we will clean the data into a workable format. The cells below will 1. clean the appropriate text files, 2. combine the cleaned text files into a single csv (named `combined_trial_data.csv`), 3. extract the appropriate images (placed in a single directory called `frames`), and 4. ravel the image data and place this information into a single csv (called `ravelled_image_data.csv`). Upon success of those steps, there is also a cell that removes the unneeded files from this directory to conserve space and memory. The functions in `utils/clean_data.py` could also be pulled out and adpated as needed.  \n",
    "\n",
    "To run the cleaning scripts as written below, declare parameters based on the below descriptions.  \n",
    "- `source_dir`: Str. By default, this is `raw_data`. This is the top-level directory for the script to look to for extracting the original data.\n",
    "- `target_dir`: Str. By default, this is `cleaned_data`. This is the top-level directory where the script will place the cleaned form of each file from `raw_data`.\n",
    "- `final_dir`: Str. By default, this is `final_data`. This is the top-level directory where the final forms of the combined clean data will be placed.\n",
    "- `game_name`: Str. The name of the game data being cleaned. This is used to look into the correct game directory under `raw_data` (derived from the directory structure of the original data).\n",
    "- `highscore`: Boolean. Whether or not these are highscore being cleaned. This only affects what directory to point to, as the highscore trial data and regular trial data are in the same format. \n",
    "\n",
    "After the below section of cells has been run, this will be the final directory structure of the cleaned data (made to imitate the original data directory structure):\n",
    "```\n",
    "erdos-project-2022--atari-HEAD\n",
    "|___final_data\n",
    "    |___{game_name}\n",
    "        |   combined_trial_data.csv\n",
    "        |   ravelled_image_data.csv\n",
    "        |\n",
    "        |___frames\n",
    "        |   |   {image-1}.png\n",
    "        |   |   {image-2}.png\n",
    "        |   |   ...\n",
    "        |\n",
    "        |___highscore\n",
    "            |   combined_trial_data.csv\n",
    "            |   ravelled_image_data.csv\n",
    "            |\n",
    "            |___frames\n",
    "                |   {image-1}.png\n",
    "                |   {image-2}.png\n",
    "                |   ...\n",
    "```"
   ]
  },
  {
   "cell_type": "code",
   "execution_count": 2,
   "metadata": {},
   "outputs": [],
   "source": [
    "# declare parameters\n",
    "GAME_NAME = 'ms_pacman'\n",
    "HIGHSCORE = True\n",
    "SOURCE_DIR = 'raw_data'\n",
    "TARGET_DIR = 'cleaned_data'\n",
    "FINAL_DIR = 'final_data'"
   ]
  },
  {
   "cell_type": "code",
   "execution_count": 3,
   "metadata": {},
   "outputs": [],
   "source": [
    "from utils.clean_data import clean_all_raw_data"
   ]
  },
  {
   "cell_type": "code",
   "execution_count": 8,
   "metadata": {},
   "outputs": [],
   "source": [
    "# this could take a minute to run\n",
    "# for reference, on the Ms Pacman highscore trials, this took ~55s\n",
    "clean_all_raw_data(\n",
    "    game_name = GAME_NAME,\n",
    "    highscore = HIGHSCORE,\n",
    "    source_dir = SOURCE_DIR,\n",
    "    target_dir = TARGET_DIR,\n",
    "    final_dir = FINAL_DIR,\n",
    ")"
   ]
  },
  {
   "cell_type": "code",
   "execution_count": 5,
   "metadata": {},
   "outputs": [],
   "source": [
    "## THIS CELL WILL DELETE THINGS\n",
    "## This will retain everything in the `final_data` directory\n",
    "##  but will delete all the other data files.\n",
    "## Recommended to conserve memory and space, but you've been warned\n",
    "\n",
    "shutil.rmtree('raw_data')\n",
    "shutil.rmtree('cleaned_data')"
   ]
  },
  {
   "cell_type": "code",
   "execution_count": 7,
   "metadata": {},
   "outputs": [],
   "source": [
    "import torch"
   ]
  },
  {
   "cell_type": "markdown",
   "metadata": {},
   "source": [
    "## EDA\n",
    "TO DO"
   ]
  },
  {
   "cell_type": "markdown",
   "metadata": {},
   "source": [
    "## Modeling"
   ]
  },
  {
   "cell_type": "markdown",
   "metadata": {},
   "source": [
    "### Train-Test Split\n",
    "\n",
    "test set of 20% of full\n",
    "val set of 20% of test"
   ]
  },
  {
   "cell_type": "code",
   "execution_count": null,
   "metadata": {},
   "outputs": [],
   "source": []
  },
  {
   "cell_type": "code",
   "execution_count": null,
   "metadata": {},
   "outputs": [],
   "source": []
  },
  {
   "cell_type": "code",
   "execution_count": null,
   "metadata": {},
   "outputs": [],
   "source": []
  },
  {
   "cell_type": "code",
   "execution_count": null,
   "metadata": {},
   "outputs": [],
   "source": []
  },
  {
   "cell_type": "code",
   "execution_count": null,
   "metadata": {},
   "outputs": [],
   "source": []
  },
  {
   "cell_type": "code",
   "execution_count": null,
   "metadata": {},
   "outputs": [],
   "source": []
  },
  {
   "cell_type": "markdown",
   "metadata": {},
   "source": [
    "## Appendix"
   ]
  },
  {
   "cell_type": "markdown",
   "metadata": {},
   "source": [
    "**Citations:**  \n",
    "  \n",
    "Ruohan Zhang, Calen Walshe, Zhuode Liu, Lin Guan, Karl S. Muller, Jake A. Whritner, Luxin Zhang, Mary Hayhoe, & Dana Ballard. (2019). Atari-HEAD: Atari Human Eye-Tracking and Demonstration Dataset (Version 4) [Data set]. Zenodo. https://doi.org/10.5281/zenodo.3451402"
   ]
  },
  {
   "cell_type": "markdown",
   "metadata": {},
   "source": []
  }
 ],
 "metadata": {
  "interpreter": {
   "hash": "b0cd3935b51a18fd3f3d2e3dd42e61ed051e9e230cb81940766e1f1caf249f7e"
  },
  "kernelspec": {
   "display_name": "Python 3.8.13 64-bit ('3.8.13')",
   "language": "python",
   "name": "python3"
  },
  "language_info": {
   "codemirror_mode": {
    "name": "ipython",
    "version": 3
   },
   "file_extension": ".py",
   "mimetype": "text/x-python",
   "name": "python",
   "nbconvert_exporter": "python",
   "pygments_lexer": "ipython3",
   "version": "3.8.13"
  },
  "orig_nbformat": 4
 },
 "nbformat": 4,
 "nbformat_minor": 2
}
