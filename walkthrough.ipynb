{
 "cells": [
  {
   "cell_type": "code",
   "execution_count": 1,
   "metadata": {},
   "outputs": [],
   "source": [
    "import matplotlib.pyplot as plt\n",
    "import seaborn as sns\n",
    "import os\n",
    "import pandas as pd\n",
    "import shutil"
   ]
  },
  {
   "cell_type": "markdown",
   "metadata": {},
   "source": [
    "## Cleaning Data\n",
    "Assuming you have downloaded the raw data files from https://zenodo.org/record/3451402#.YoMCp5PMLtX into a directory called `raw_data`, we can use the `clean_data.py` script to clean the datasets into a more workable format and place those CSVs in a directory called `cleaned_data`.\n",
    "\n",
    "`clean_data.py` will also combine each of those files (where one file corresponds to a single trial) into one dataframe with a trial identifier and write that dataframe to `cleaned_data/[game_name]/combined.csv`"
   ]
  },
  {
   "cell_type": "code",
   "execution_count": 2,
   "metadata": {},
   "outputs": [],
   "source": [
    "from utils.clean_data import clean_all_raw_data, extract_images, ravel_images"
   ]
  },
  {
   "cell_type": "code",
   "execution_count": 8,
   "metadata": {},
   "outputs": [],
   "source": [
    "game = 'highscore'\n",
    "source_dir = 'raw_data'\n",
    "target_dir = 'cleaned_data'"
   ]
  },
  {
   "cell_type": "code",
   "execution_count": null,
   "metadata": {},
   "outputs": [],
   "source": [
    "files = [\n",
    "    os.path.join(source_dir, f)\n",
    "    for f in os.listdir(source_dir)\n",
    "    if f.endswith(\".txt\")\n",
    "]\n",
    "for one_file in files:\n",
    "    filepath = os.path.join(source_dir, game, one_file)\n",
    "    clean_data_file(filepath, target_dir, game)\n",
    "combined_fp = combine_trial_files(game)\n",
    "return combined_fp"
   ]
  },
  {
   "cell_type": "code",
   "execution_count": 7,
   "metadata": {},
   "outputs": [
    {
     "ename": "ValueError",
     "evalue": "No objects to concatenate",
     "output_type": "error",
     "traceback": [
      "\u001b[0;31m---------------------------------------------------------------------------\u001b[0m",
      "\u001b[0;31mValueError\u001b[0m                                Traceback (most recent call last)",
      "\u001b[1;32m/Users/nicolebasinski/Desktop/repos/erdos-project-2022--atari-HEAD/walkthrough.ipynb Cell 5'\u001b[0m in \u001b[0;36m<cell line: 2>\u001b[0;34m()\u001b[0m\n\u001b[1;32m      <a href='vscode-notebook-cell:/Users/nicolebasinski/Desktop/repos/erdos-project-2022--atari-HEAD/walkthrough.ipynb#ch0000004?line=2'>3</a>\u001b[0m     combined_fp \u001b[39m=\u001b[39m os\u001b[39m.\u001b[39mpath\u001b[39m.\u001b[39mjoin(\u001b[39m\"\u001b[39m\u001b[39mcleaned_data\u001b[39m\u001b[39m\"\u001b[39m, GAME, \u001b[39m\"\u001b[39m\u001b[39mcombined.csv\u001b[39m\u001b[39m\"\u001b[39m)\n\u001b[1;32m      <a href='vscode-notebook-cell:/Users/nicolebasinski/Desktop/repos/erdos-project-2022--atari-HEAD/walkthrough.ipynb#ch0000004?line=3'>4</a>\u001b[0m \u001b[39melse\u001b[39;00m:\n\u001b[0;32m----> <a href='vscode-notebook-cell:/Users/nicolebasinski/Desktop/repos/erdos-project-2022--atari-HEAD/walkthrough.ipynb#ch0000004?line=4'>5</a>\u001b[0m     combined_fp \u001b[39m=\u001b[39m clean_all_raw_data(parent_dir,target_dir,GAME)\n",
      "File \u001b[0;32m~/Desktop/repos/erdos-project-2022--atari-HEAD/utils/clean_data.py:171\u001b[0m, in \u001b[0;36mclean_all_raw_data\u001b[0;34m(source_dir, target_dir, game)\u001b[0m\n\u001b[1;32m    <a href='file:///Users/nicolebasinski/Desktop/repos/erdos-project-2022--atari-HEAD/utils/clean_data.py?line=167'>168</a>\u001b[0m     filepath \u001b[39m=\u001b[39m os\u001b[39m.\u001b[39mpath\u001b[39m.\u001b[39mjoin(source_dir, game, one_file)\n\u001b[1;32m    <a href='file:///Users/nicolebasinski/Desktop/repos/erdos-project-2022--atari-HEAD/utils/clean_data.py?line=168'>169</a>\u001b[0m     clean_data_file(filepath, target_dir, game)\n\u001b[0;32m--> <a href='file:///Users/nicolebasinski/Desktop/repos/erdos-project-2022--atari-HEAD/utils/clean_data.py?line=170'>171</a>\u001b[0m combined_fp \u001b[39m=\u001b[39m combine_trial_files(game)\n\u001b[1;32m    <a href='file:///Users/nicolebasinski/Desktop/repos/erdos-project-2022--atari-HEAD/utils/clean_data.py?line=172'>173</a>\u001b[0m \u001b[39mreturn\u001b[39;00m combined_fp\n",
      "File \u001b[0;32m~/Desktop/repos/erdos-project-2022--atari-HEAD/utils/clean_data.py:49\u001b[0m, in \u001b[0;36mcombine_trial_files\u001b[0;34m(game)\u001b[0m\n\u001b[1;32m     <a href='file:///Users/nicolebasinski/Desktop/repos/erdos-project-2022--atari-HEAD/utils/clean_data.py?line=44'>45</a>\u001b[0m \u001b[39mdef\u001b[39;00m \u001b[39mcombine_trial_files\u001b[39m(game):\n\u001b[1;32m     <a href='file:///Users/nicolebasinski/Desktop/repos/erdos-project-2022--atari-HEAD/utils/clean_data.py?line=45'>46</a>\u001b[0m     files \u001b[39m=\u001b[39m [\n\u001b[1;32m     <a href='file:///Users/nicolebasinski/Desktop/repos/erdos-project-2022--atari-HEAD/utils/clean_data.py?line=46'>47</a>\u001b[0m         f \u001b[39mfor\u001b[39;00m f \u001b[39min\u001b[39;00m os\u001b[39m.\u001b[39mlistdir(os\u001b[39m.\u001b[39mpath\u001b[39m.\u001b[39mjoin(\u001b[39m\"\u001b[39m\u001b[39mcleaned_data\u001b[39m\u001b[39m\"\u001b[39m, game)) \u001b[39mif\u001b[39;00m f\u001b[39m.\u001b[39mendswith(\u001b[39m\"\u001b[39m\u001b[39m.txt\u001b[39m\u001b[39m\"\u001b[39m)\n\u001b[1;32m     <a href='file:///Users/nicolebasinski/Desktop/repos/erdos-project-2022--atari-HEAD/utils/clean_data.py?line=47'>48</a>\u001b[0m     ]\n\u001b[0;32m---> <a href='file:///Users/nicolebasinski/Desktop/repos/erdos-project-2022--atari-HEAD/utils/clean_data.py?line=48'>49</a>\u001b[0m     full_df \u001b[39m=\u001b[39m pd\u001b[39m.\u001b[39;49mconcat([add_trial_column(f, game) \u001b[39mfor\u001b[39;49;00m f \u001b[39min\u001b[39;49;00m files])\n\u001b[1;32m     <a href='file:///Users/nicolebasinski/Desktop/repos/erdos-project-2022--atari-HEAD/utils/clean_data.py?line=49'>50</a>\u001b[0m     dest_path \u001b[39m=\u001b[39m os\u001b[39m.\u001b[39mpath\u001b[39m.\u001b[39mjoin(\u001b[39m\"\u001b[39m\u001b[39mcleaned_data\u001b[39m\u001b[39m\"\u001b[39m, game, \u001b[39m\"\u001b[39m\u001b[39mcombined.csv\u001b[39m\u001b[39m\"\u001b[39m)\n\u001b[1;32m     <a href='file:///Users/nicolebasinski/Desktop/repos/erdos-project-2022--atari-HEAD/utils/clean_data.py?line=50'>51</a>\u001b[0m     full_df\u001b[39m.\u001b[39mto_csv(dest_path, index\u001b[39m=\u001b[39m\u001b[39mFalse\u001b[39;00m)\n",
      "File \u001b[0;32m~/.pyenv/versions/3.8.13/lib/python3.8/site-packages/pandas/util/_decorators.py:311\u001b[0m, in \u001b[0;36mdeprecate_nonkeyword_arguments.<locals>.decorate.<locals>.wrapper\u001b[0;34m(*args, **kwargs)\u001b[0m\n\u001b[1;32m    <a href='file:///Users/nicolebasinski/.pyenv/versions/3.8.13/lib/python3.8/site-packages/pandas/util/_decorators.py?line=304'>305</a>\u001b[0m \u001b[39mif\u001b[39;00m \u001b[39mlen\u001b[39m(args) \u001b[39m>\u001b[39m num_allow_args:\n\u001b[1;32m    <a href='file:///Users/nicolebasinski/.pyenv/versions/3.8.13/lib/python3.8/site-packages/pandas/util/_decorators.py?line=305'>306</a>\u001b[0m     warnings\u001b[39m.\u001b[39mwarn(\n\u001b[1;32m    <a href='file:///Users/nicolebasinski/.pyenv/versions/3.8.13/lib/python3.8/site-packages/pandas/util/_decorators.py?line=306'>307</a>\u001b[0m         msg\u001b[39m.\u001b[39mformat(arguments\u001b[39m=\u001b[39marguments),\n\u001b[1;32m    <a href='file:///Users/nicolebasinski/.pyenv/versions/3.8.13/lib/python3.8/site-packages/pandas/util/_decorators.py?line=307'>308</a>\u001b[0m         \u001b[39mFutureWarning\u001b[39;00m,\n\u001b[1;32m    <a href='file:///Users/nicolebasinski/.pyenv/versions/3.8.13/lib/python3.8/site-packages/pandas/util/_decorators.py?line=308'>309</a>\u001b[0m         stacklevel\u001b[39m=\u001b[39mstacklevel,\n\u001b[1;32m    <a href='file:///Users/nicolebasinski/.pyenv/versions/3.8.13/lib/python3.8/site-packages/pandas/util/_decorators.py?line=309'>310</a>\u001b[0m     )\n\u001b[0;32m--> <a href='file:///Users/nicolebasinski/.pyenv/versions/3.8.13/lib/python3.8/site-packages/pandas/util/_decorators.py?line=310'>311</a>\u001b[0m \u001b[39mreturn\u001b[39;00m func(\u001b[39m*\u001b[39;49margs, \u001b[39m*\u001b[39;49m\u001b[39m*\u001b[39;49mkwargs)\n",
      "File \u001b[0;32m~/.pyenv/versions/3.8.13/lib/python3.8/site-packages/pandas/core/reshape/concat.py:347\u001b[0m, in \u001b[0;36mconcat\u001b[0;34m(objs, axis, join, ignore_index, keys, levels, names, verify_integrity, sort, copy)\u001b[0m\n\u001b[1;32m    <a href='file:///Users/nicolebasinski/.pyenv/versions/3.8.13/lib/python3.8/site-packages/pandas/core/reshape/concat.py?line=142'>143</a>\u001b[0m \u001b[39m@deprecate_nonkeyword_arguments\u001b[39m(version\u001b[39m=\u001b[39m\u001b[39mNone\u001b[39;00m, allowed_args\u001b[39m=\u001b[39m[\u001b[39m\"\u001b[39m\u001b[39mobjs\u001b[39m\u001b[39m\"\u001b[39m])\n\u001b[1;32m    <a href='file:///Users/nicolebasinski/.pyenv/versions/3.8.13/lib/python3.8/site-packages/pandas/core/reshape/concat.py?line=143'>144</a>\u001b[0m \u001b[39mdef\u001b[39;00m \u001b[39mconcat\u001b[39m(\n\u001b[1;32m    <a href='file:///Users/nicolebasinski/.pyenv/versions/3.8.13/lib/python3.8/site-packages/pandas/core/reshape/concat.py?line=144'>145</a>\u001b[0m     objs: Iterable[NDFrame] \u001b[39m|\u001b[39m Mapping[Hashable, NDFrame],\n\u001b[0;32m   (...)\u001b[0m\n\u001b[1;32m    <a href='file:///Users/nicolebasinski/.pyenv/versions/3.8.13/lib/python3.8/site-packages/pandas/core/reshape/concat.py?line=153'>154</a>\u001b[0m     copy: \u001b[39mbool\u001b[39m \u001b[39m=\u001b[39m \u001b[39mTrue\u001b[39;00m,\n\u001b[1;32m    <a href='file:///Users/nicolebasinski/.pyenv/versions/3.8.13/lib/python3.8/site-packages/pandas/core/reshape/concat.py?line=154'>155</a>\u001b[0m ) \u001b[39m-\u001b[39m\u001b[39m>\u001b[39m DataFrame \u001b[39m|\u001b[39m Series:\n\u001b[1;32m    <a href='file:///Users/nicolebasinski/.pyenv/versions/3.8.13/lib/python3.8/site-packages/pandas/core/reshape/concat.py?line=155'>156</a>\u001b[0m     \u001b[39m\"\"\"\u001b[39;00m\n\u001b[1;32m    <a href='file:///Users/nicolebasinski/.pyenv/versions/3.8.13/lib/python3.8/site-packages/pandas/core/reshape/concat.py?line=156'>157</a>\u001b[0m \u001b[39m    Concatenate pandas objects along a particular axis with optional set logic\u001b[39;00m\n\u001b[1;32m    <a href='file:///Users/nicolebasinski/.pyenv/versions/3.8.13/lib/python3.8/site-packages/pandas/core/reshape/concat.py?line=157'>158</a>\u001b[0m \u001b[39m    along the other axes.\u001b[39;00m\n\u001b[0;32m   (...)\u001b[0m\n\u001b[1;32m    <a href='file:///Users/nicolebasinski/.pyenv/versions/3.8.13/lib/python3.8/site-packages/pandas/core/reshape/concat.py?line=344'>345</a>\u001b[0m \u001b[39m    ValueError: Indexes have overlapping values: ['a']\u001b[39;00m\n\u001b[1;32m    <a href='file:///Users/nicolebasinski/.pyenv/versions/3.8.13/lib/python3.8/site-packages/pandas/core/reshape/concat.py?line=345'>346</a>\u001b[0m \u001b[39m    \"\"\"\u001b[39;00m\n\u001b[0;32m--> <a href='file:///Users/nicolebasinski/.pyenv/versions/3.8.13/lib/python3.8/site-packages/pandas/core/reshape/concat.py?line=346'>347</a>\u001b[0m     op \u001b[39m=\u001b[39m _Concatenator(\n\u001b[1;32m    <a href='file:///Users/nicolebasinski/.pyenv/versions/3.8.13/lib/python3.8/site-packages/pandas/core/reshape/concat.py?line=347'>348</a>\u001b[0m         objs,\n\u001b[1;32m    <a href='file:///Users/nicolebasinski/.pyenv/versions/3.8.13/lib/python3.8/site-packages/pandas/core/reshape/concat.py?line=348'>349</a>\u001b[0m         axis\u001b[39m=\u001b[39;49maxis,\n\u001b[1;32m    <a href='file:///Users/nicolebasinski/.pyenv/versions/3.8.13/lib/python3.8/site-packages/pandas/core/reshape/concat.py?line=349'>350</a>\u001b[0m         ignore_index\u001b[39m=\u001b[39;49mignore_index,\n\u001b[1;32m    <a href='file:///Users/nicolebasinski/.pyenv/versions/3.8.13/lib/python3.8/site-packages/pandas/core/reshape/concat.py?line=350'>351</a>\u001b[0m         join\u001b[39m=\u001b[39;49mjoin,\n\u001b[1;32m    <a href='file:///Users/nicolebasinski/.pyenv/versions/3.8.13/lib/python3.8/site-packages/pandas/core/reshape/concat.py?line=351'>352</a>\u001b[0m         keys\u001b[39m=\u001b[39;49mkeys,\n\u001b[1;32m    <a href='file:///Users/nicolebasinski/.pyenv/versions/3.8.13/lib/python3.8/site-packages/pandas/core/reshape/concat.py?line=352'>353</a>\u001b[0m         levels\u001b[39m=\u001b[39;49mlevels,\n\u001b[1;32m    <a href='file:///Users/nicolebasinski/.pyenv/versions/3.8.13/lib/python3.8/site-packages/pandas/core/reshape/concat.py?line=353'>354</a>\u001b[0m         names\u001b[39m=\u001b[39;49mnames,\n\u001b[1;32m    <a href='file:///Users/nicolebasinski/.pyenv/versions/3.8.13/lib/python3.8/site-packages/pandas/core/reshape/concat.py?line=354'>355</a>\u001b[0m         verify_integrity\u001b[39m=\u001b[39;49mverify_integrity,\n\u001b[1;32m    <a href='file:///Users/nicolebasinski/.pyenv/versions/3.8.13/lib/python3.8/site-packages/pandas/core/reshape/concat.py?line=355'>356</a>\u001b[0m         copy\u001b[39m=\u001b[39;49mcopy,\n\u001b[1;32m    <a href='file:///Users/nicolebasinski/.pyenv/versions/3.8.13/lib/python3.8/site-packages/pandas/core/reshape/concat.py?line=356'>357</a>\u001b[0m         sort\u001b[39m=\u001b[39;49msort,\n\u001b[1;32m    <a href='file:///Users/nicolebasinski/.pyenv/versions/3.8.13/lib/python3.8/site-packages/pandas/core/reshape/concat.py?line=357'>358</a>\u001b[0m     )\n\u001b[1;32m    <a href='file:///Users/nicolebasinski/.pyenv/versions/3.8.13/lib/python3.8/site-packages/pandas/core/reshape/concat.py?line=359'>360</a>\u001b[0m     \u001b[39mreturn\u001b[39;00m op\u001b[39m.\u001b[39mget_result()\n",
      "File \u001b[0;32m~/.pyenv/versions/3.8.13/lib/python3.8/site-packages/pandas/core/reshape/concat.py:404\u001b[0m, in \u001b[0;36m_Concatenator.__init__\u001b[0;34m(self, objs, axis, join, keys, levels, names, ignore_index, verify_integrity, copy, sort)\u001b[0m\n\u001b[1;32m    <a href='file:///Users/nicolebasinski/.pyenv/versions/3.8.13/lib/python3.8/site-packages/pandas/core/reshape/concat.py?line=400'>401</a>\u001b[0m     objs \u001b[39m=\u001b[39m \u001b[39mlist\u001b[39m(objs)\n\u001b[1;32m    <a href='file:///Users/nicolebasinski/.pyenv/versions/3.8.13/lib/python3.8/site-packages/pandas/core/reshape/concat.py?line=402'>403</a>\u001b[0m \u001b[39mif\u001b[39;00m \u001b[39mlen\u001b[39m(objs) \u001b[39m==\u001b[39m \u001b[39m0\u001b[39m:\n\u001b[0;32m--> <a href='file:///Users/nicolebasinski/.pyenv/versions/3.8.13/lib/python3.8/site-packages/pandas/core/reshape/concat.py?line=403'>404</a>\u001b[0m     \u001b[39mraise\u001b[39;00m \u001b[39mValueError\u001b[39;00m(\u001b[39m\"\u001b[39m\u001b[39mNo objects to concatenate\u001b[39m\u001b[39m\"\u001b[39m)\n\u001b[1;32m    <a href='file:///Users/nicolebasinski/.pyenv/versions/3.8.13/lib/python3.8/site-packages/pandas/core/reshape/concat.py?line=405'>406</a>\u001b[0m \u001b[39mif\u001b[39;00m keys \u001b[39mis\u001b[39;00m \u001b[39mNone\u001b[39;00m:\n\u001b[1;32m    <a href='file:///Users/nicolebasinski/.pyenv/versions/3.8.13/lib/python3.8/site-packages/pandas/core/reshape/concat.py?line=406'>407</a>\u001b[0m     objs \u001b[39m=\u001b[39m \u001b[39mlist\u001b[39m(com\u001b[39m.\u001b[39mnot_none(\u001b[39m*\u001b[39mobjs))\n",
      "\u001b[0;31mValueError\u001b[0m: No objects to concatenate"
     ]
    }
   ],
   "source": [
    "# if the data has already been cleaned, skip and just use filepath instead\n",
    "if os.path.exists(os.path.join(\"cleaned_data\", GAME, \"combined.csv\")):\n",
    "    combined_fp = os.path.join(\"cleaned_data\", GAME, \"combined.csv\")\n",
    "else:\n",
    "    combined_fp = clean_all_raw_data(parent_dir,target_dir,GAME)"
   ]
  },
  {
   "cell_type": "code",
   "execution_count": null,
   "metadata": {},
   "outputs": [],
   "source": [
    "full_df = pd.read_csv(combined_fp)"
   ]
  },
  {
   "cell_type": "code",
   "execution_count": null,
   "metadata": {},
   "outputs": [],
   "source": [
    "full_df.shape"
   ]
  },
  {
   "cell_type": "code",
   "execution_count": null,
   "metadata": {},
   "outputs": [],
   "source": [
    "# if the images have already been extracted, skip and just use filepath instead\n",
    "if os.path.exists(os.path.join(target_dir, GAME, \"all_images\")):\n",
    "    image_dir = os.path.join(target_dir, GAME, \"all_images\")\n",
    "else:\n",
    "    image_dir = extract_images(parent_dir,target_dir,GAME)"
   ]
  },
  {
   "cell_type": "code",
   "execution_count": null,
   "metadata": {},
   "outputs": [],
   "source": [
    "# \"ravel\" puts the image information into an array we can use later for PCA\n",
    "if os.path.exists(os.path.join(image_dir, \"ravelled_image_data.csv\")):\n",
    "    image_file = os.path.join(image_dir, \"ravelled_image_data.csv\")\n",
    "else:\n",
    "    image_file = ravel_images(image_dir)"
   ]
  },
  {
   "cell_type": "code",
   "execution_count": null,
   "metadata": {},
   "outputs": [],
   "source": [
    "## THIS CELL WILL DELETE A LOT OF STUFF\n",
    "## will retain two csvs, \n",
    "##   one for the combined clean text data and one for the combined image ravelled data,\n",
    "## but will delete all the other data files.\n",
    "## recommended to conserve memory and space, but you've been warned\n",
    "if os.path.exists('final_data'):\n",
    "    pass\n",
    "else:\n",
    "    os.mkdir('final_data')\n",
    "# shutil.move('cleaned_data/ms_pacman/combined.csv', 'final_data/ms_pacman_combined.csv')\n",
    "# shutil.move('cleaned_data/ms_pacman/all_images/ravelled_image_data.csv','final_data/ms_pacman_ravelled_images.csv')\n",
    "\n",
    "shutil.rmtree('raw_data')\n",
    "shutil.rmtree('cleaned_data')\n",
    "shutil.rmtree('extraction')"
   ]
  },
  {
   "cell_type": "code",
   "execution_count": null,
   "metadata": {},
   "outputs": [],
   "source": []
  }
 ],
 "metadata": {
  "interpreter": {
   "hash": "b0cd3935b51a18fd3f3d2e3dd42e61ed051e9e230cb81940766e1f1caf249f7e"
  },
  "kernelspec": {
   "display_name": "Python 3.8.13 64-bit ('3.8.13')",
   "language": "python",
   "name": "python3"
  },
  "language_info": {
   "codemirror_mode": {
    "name": "ipython",
    "version": 3
   },
   "file_extension": ".py",
   "mimetype": "text/x-python",
   "name": "python",
   "nbconvert_exporter": "python",
   "pygments_lexer": "ipython3",
   "version": "3.8.13"
  },
  "orig_nbformat": 4
 },
 "nbformat": 4,
 "nbformat_minor": 2
}
