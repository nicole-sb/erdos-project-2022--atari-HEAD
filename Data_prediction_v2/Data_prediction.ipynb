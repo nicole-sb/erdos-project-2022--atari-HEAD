{
 "cells": [
  {
   "cell_type": "code",
   "execution_count": 1,
   "id": "393d4a5b",
   "metadata": {},
   "outputs": [],
   "source": [
    "import logging as logger\n",
    "import os\n",
    "import shutil\n",
    "import tarfile\n",
    "from csv import reader\n",
    "import logging as logger\n",
    "import os\n",
    "import shutil\n",
    "import tarfile\n",
    "from csv import reader\n",
    "\n",
    "import cv2\n",
    "import pandas as pd\n",
    "import seaborn as sns"
   ]
  },
  {
   "cell_type": "code",
   "execution_count": 2,
   "id": "946cab09",
   "metadata": {},
   "outputs": [],
   "source": [
    "## For data handling\n",
    "import pandas as pd\n",
    "import numpy as np\n",
    "\n",
    "## For plotting\n",
    "import matplotlib.pyplot as plt\n",
    "from seaborn import set_style\n",
    "\n",
    "## This sets the plot style\n",
    "## to have a grid on a dark background\n",
    "set_style(\"whitegrid\")"
   ]
  },
  {
   "cell_type": "code",
   "execution_count": 3,
   "id": "28fd7391",
   "metadata": {},
   "outputs": [],
   "source": [
    "from usefunc import findangamp,findang\n",
    "from usefunc import mostvalue, possibleaction,findpacman\n",
    "from usefunc import pickaction\n",
    "from usefunc import accuracy"
   ]
  },
  {
   "cell_type": "markdown",
   "id": "ecdfc068",
   "metadata": {},
   "source": [
    "# Data training and predictions"
   ]
  },
  {
   "cell_type": "code",
   "execution_count": 4,
   "id": "2aacf591",
   "metadata": {},
   "outputs": [
    {
     "data": {
      "text/html": [
       "<div>\n",
       "<style scoped>\n",
       "    .dataframe tbody tr th:only-of-type {\n",
       "        vertical-align: middle;\n",
       "    }\n",
       "\n",
       "    .dataframe tbody tr th {\n",
       "        vertical-align: top;\n",
       "    }\n",
       "\n",
       "    .dataframe thead th {\n",
       "        text-align: right;\n",
       "    }\n",
       "</style>\n",
       "<table border=\"1\" class=\"dataframe\">\n",
       "  <thead>\n",
       "    <tr style=\"text-align: right;\">\n",
       "      <th></th>\n",
       "      <th>frame_id</th>\n",
       "      <th>action</th>\n",
       "      <th>gaze_variance0</th>\n",
       "      <th>gaze_variance1</th>\n",
       "      <th>ghost_amp</th>\n",
       "      <th>ghost_angle</th>\n",
       "      <th>mean_angle</th>\n",
       "      <th>mean_amplitude</th>\n",
       "      <th>start_angle</th>\n",
       "      <th>start_amplitude</th>\n",
       "      <th>end_angle</th>\n",
       "      <th>end_amplitude</th>\n",
       "      <th>com_angle0</th>\n",
       "      <th>com_angle1</th>\n",
       "      <th>0</th>\n",
       "      <th>1</th>\n",
       "      <th>2</th>\n",
       "      <th>3</th>\n",
       "    </tr>\n",
       "  </thead>\n",
       "  <tbody>\n",
       "    <tr>\n",
       "      <th>0</th>\n",
       "      <td>RZ_5037271_4</td>\n",
       "      <td>0</td>\n",
       "      <td>0.035883</td>\n",
       "      <td>0.003952</td>\n",
       "      <td>44.150837</td>\n",
       "      <td>79.934677</td>\n",
       "      <td>-107.945729</td>\n",
       "      <td>13.799091</td>\n",
       "      <td>-107.185325</td>\n",
       "      <td>14.126018</td>\n",
       "      <td>-108.034756</td>\n",
       "      <td>13.771982</td>\n",
       "      <td>-72.986692</td>\n",
       "      <td>-162.986692</td>\n",
       "      <td>1</td>\n",
       "      <td>0</td>\n",
       "      <td>1</td>\n",
       "      <td>1</td>\n",
       "    </tr>\n",
       "    <tr>\n",
       "      <th>1</th>\n",
       "      <td>RZ_5037271_5</td>\n",
       "      <td>0</td>\n",
       "      <td>0.029144</td>\n",
       "      <td>0.004015</td>\n",
       "      <td>43.987088</td>\n",
       "      <td>81.217296</td>\n",
       "      <td>-108.305842</td>\n",
       "      <td>13.905737</td>\n",
       "      <td>-108.019981</td>\n",
       "      <td>13.718247</td>\n",
       "      <td>-108.533426</td>\n",
       "      <td>13.948754</td>\n",
       "      <td>-97.508199</td>\n",
       "      <td>-7.508199</td>\n",
       "      <td>1</td>\n",
       "      <td>0</td>\n",
       "      <td>1</td>\n",
       "      <td>1</td>\n",
       "    </tr>\n",
       "    <tr>\n",
       "      <th>2</th>\n",
       "      <td>RZ_5037271_6</td>\n",
       "      <td>0</td>\n",
       "      <td>0.070980</td>\n",
       "      <td>0.008503</td>\n",
       "      <td>46.737023</td>\n",
       "      <td>81.776845</td>\n",
       "      <td>-113.643011</td>\n",
       "      <td>11.329768</td>\n",
       "      <td>-112.825956</td>\n",
       "      <td>11.381482</td>\n",
       "      <td>-114.635915</td>\n",
       "      <td>11.287626</td>\n",
       "      <td>97.549158</td>\n",
       "      <td>7.549158</td>\n",
       "      <td>1</td>\n",
       "      <td>1</td>\n",
       "      <td>1</td>\n",
       "      <td>1</td>\n",
       "    </tr>\n",
       "    <tr>\n",
       "      <th>3</th>\n",
       "      <td>RZ_5037271_7</td>\n",
       "      <td>0</td>\n",
       "      <td>0.047391</td>\n",
       "      <td>0.008704</td>\n",
       "      <td>46.604505</td>\n",
       "      <td>82.993701</td>\n",
       "      <td>-112.911807</td>\n",
       "      <td>11.766484</td>\n",
       "      <td>-114.404793</td>\n",
       "      <td>11.266875</td>\n",
       "      <td>-112.830973</td>\n",
       "      <td>11.946105</td>\n",
       "      <td>95.946701</td>\n",
       "      <td>-174.053299</td>\n",
       "      <td>1</td>\n",
       "      <td>1</td>\n",
       "      <td>1</td>\n",
       "      <td>1</td>\n",
       "    </tr>\n",
       "    <tr>\n",
       "      <th>4</th>\n",
       "      <td>RZ_5037271_8</td>\n",
       "      <td>0</td>\n",
       "      <td>0.054097</td>\n",
       "      <td>0.008667</td>\n",
       "      <td>48.590183</td>\n",
       "      <td>83.281367</td>\n",
       "      <td>-118.595054</td>\n",
       "      <td>9.801289</td>\n",
       "      <td>-117.223417</td>\n",
       "      <td>10.132558</td>\n",
       "      <td>-118.731446</td>\n",
       "      <td>9.705029</td>\n",
       "      <td>-83.923473</td>\n",
       "      <td>-173.923473</td>\n",
       "      <td>1</td>\n",
       "      <td>1</td>\n",
       "      <td>1</td>\n",
       "      <td>1</td>\n",
       "    </tr>\n",
       "    <tr>\n",
       "      <th>...</th>\n",
       "      <td>...</td>\n",
       "      <td>...</td>\n",
       "      <td>...</td>\n",
       "      <td>...</td>\n",
       "      <td>...</td>\n",
       "      <td>...</td>\n",
       "      <td>...</td>\n",
       "      <td>...</td>\n",
       "      <td>...</td>\n",
       "      <td>...</td>\n",
       "      <td>...</td>\n",
       "      <td>...</td>\n",
       "      <td>...</td>\n",
       "      <td>...</td>\n",
       "      <td>...</td>\n",
       "      <td>...</td>\n",
       "      <td>...</td>\n",
       "      <td>...</td>\n",
       "    </tr>\n",
       "    <tr>\n",
       "      <th>14831</th>\n",
       "      <td>RZ_5037271_17306</td>\n",
       "      <td>2</td>\n",
       "      <td>1.469895</td>\n",
       "      <td>0.012684</td>\n",
       "      <td>110.304549</td>\n",
       "      <td>118.971830</td>\n",
       "      <td>114.338379</td>\n",
       "      <td>170.906662</td>\n",
       "      <td>114.227716</td>\n",
       "      <td>173.210204</td>\n",
       "      <td>114.409012</td>\n",
       "      <td>169.460775</td>\n",
       "      <td>107.107439</td>\n",
       "      <td>17.107439</td>\n",
       "      <td>0</td>\n",
       "      <td>1</td>\n",
       "      <td>1</td>\n",
       "      <td>0</td>\n",
       "    </tr>\n",
       "    <tr>\n",
       "      <th>14832</th>\n",
       "      <td>RZ_5037271_17307</td>\n",
       "      <td>2</td>\n",
       "      <td>0.355787</td>\n",
       "      <td>0.007117</td>\n",
       "      <td>4.371057</td>\n",
       "      <td>174.801436</td>\n",
       "      <td>114.535687</td>\n",
       "      <td>168.796607</td>\n",
       "      <td>114.426354</td>\n",
       "      <td>169.396198</td>\n",
       "      <td>114.754752</td>\n",
       "      <td>167.693789</td>\n",
       "      <td>-90.909502</td>\n",
       "      <td>179.090498</td>\n",
       "      <td>0</td>\n",
       "      <td>1</td>\n",
       "      <td>1</td>\n",
       "      <td>0</td>\n",
       "    </tr>\n",
       "    <tr>\n",
       "      <th>14833</th>\n",
       "      <td>RZ_5037271_17308</td>\n",
       "      <td>2</td>\n",
       "      <td>121.790149</td>\n",
       "      <td>0.890204</td>\n",
       "      <td>8.807570</td>\n",
       "      <td>30.731556</td>\n",
       "      <td>111.307934</td>\n",
       "      <td>194.162089</td>\n",
       "      <td>114.669279</td>\n",
       "      <td>168.382020</td>\n",
       "      <td>110.389077</td>\n",
       "      <td>199.140620</td>\n",
       "      <td>-91.365272</td>\n",
       "      <td>178.634728</td>\n",
       "      <td>0</td>\n",
       "      <td>1</td>\n",
       "      <td>1</td>\n",
       "      <td>0</td>\n",
       "    </tr>\n",
       "    <tr>\n",
       "      <th>14834</th>\n",
       "      <td>RZ_5037271_17309</td>\n",
       "      <td>2</td>\n",
       "      <td>0.362737</td>\n",
       "      <td>0.011814</td>\n",
       "      <td>110.207812</td>\n",
       "      <td>118.880865</td>\n",
       "      <td>110.525212</td>\n",
       "      <td>198.067893</td>\n",
       "      <td>110.404123</td>\n",
       "      <td>199.000024</td>\n",
       "      <td>110.641052</td>\n",
       "      <td>197.352773</td>\n",
       "      <td>84.028416</td>\n",
       "      <td>-5.971584</td>\n",
       "      <td>0</td>\n",
       "      <td>1</td>\n",
       "      <td>1</td>\n",
       "      <td>0</td>\n",
       "    </tr>\n",
       "    <tr>\n",
       "      <th>14835</th>\n",
       "      <td>RZ_5037271_17310</td>\n",
       "      <td>2</td>\n",
       "      <td>0.035195</td>\n",
       "      <td>0.004730</td>\n",
       "      <td>4.502770</td>\n",
       "      <td>174.748690</td>\n",
       "      <td>110.777787</td>\n",
       "      <td>197.703614</td>\n",
       "      <td>110.788055</td>\n",
       "      <td>197.665505</td>\n",
       "      <td>110.785246</td>\n",
       "      <td>197.747395</td>\n",
       "      <td>84.943161</td>\n",
       "      <td>-5.056839</td>\n",
       "      <td>0</td>\n",
       "      <td>1</td>\n",
       "      <td>1</td>\n",
       "      <td>0</td>\n",
       "    </tr>\n",
       "  </tbody>\n",
       "</table>\n",
       "<p>14836 rows × 18 columns</p>\n",
       "</div>"
      ],
      "text/plain": [
       "               frame_id  action  gaze_variance0  gaze_variance1   ghost_amp  \\\n",
       "0          RZ_5037271_4       0        0.035883        0.003952   44.150837   \n",
       "1          RZ_5037271_5       0        0.029144        0.004015   43.987088   \n",
       "2          RZ_5037271_6       0        0.070980        0.008503   46.737023   \n",
       "3          RZ_5037271_7       0        0.047391        0.008704   46.604505   \n",
       "4          RZ_5037271_8       0        0.054097        0.008667   48.590183   \n",
       "...                 ...     ...             ...             ...         ...   \n",
       "14831  RZ_5037271_17306       2        1.469895        0.012684  110.304549   \n",
       "14832  RZ_5037271_17307       2        0.355787        0.007117    4.371057   \n",
       "14833  RZ_5037271_17308       2      121.790149        0.890204    8.807570   \n",
       "14834  RZ_5037271_17309       2        0.362737        0.011814  110.207812   \n",
       "14835  RZ_5037271_17310       2        0.035195        0.004730    4.502770   \n",
       "\n",
       "       ghost_angle  mean_angle  mean_amplitude  start_angle  start_amplitude  \\\n",
       "0        79.934677 -107.945729       13.799091  -107.185325        14.126018   \n",
       "1        81.217296 -108.305842       13.905737  -108.019981        13.718247   \n",
       "2        81.776845 -113.643011       11.329768  -112.825956        11.381482   \n",
       "3        82.993701 -112.911807       11.766484  -114.404793        11.266875   \n",
       "4        83.281367 -118.595054        9.801289  -117.223417        10.132558   \n",
       "...            ...         ...             ...          ...              ...   \n",
       "14831   118.971830  114.338379      170.906662   114.227716       173.210204   \n",
       "14832   174.801436  114.535687      168.796607   114.426354       169.396198   \n",
       "14833    30.731556  111.307934      194.162089   114.669279       168.382020   \n",
       "14834   118.880865  110.525212      198.067893   110.404123       199.000024   \n",
       "14835   174.748690  110.777787      197.703614   110.788055       197.665505   \n",
       "\n",
       "        end_angle  end_amplitude  com_angle0  com_angle1  0  1  2  3  \n",
       "0     -108.034756      13.771982  -72.986692 -162.986692  1  0  1  1  \n",
       "1     -108.533426      13.948754  -97.508199   -7.508199  1  0  1  1  \n",
       "2     -114.635915      11.287626   97.549158    7.549158  1  1  1  1  \n",
       "3     -112.830973      11.946105   95.946701 -174.053299  1  1  1  1  \n",
       "4     -118.731446       9.705029  -83.923473 -173.923473  1  1  1  1  \n",
       "...           ...            ...         ...         ... .. .. .. ..  \n",
       "14831  114.409012     169.460775  107.107439   17.107439  0  1  1  0  \n",
       "14832  114.754752     167.693789  -90.909502  179.090498  0  1  1  0  \n",
       "14833  110.389077     199.140620  -91.365272  178.634728  0  1  1  0  \n",
       "14834  110.641052     197.352773   84.028416   -5.971584  0  1  1  0  \n",
       "14835  110.785246     197.747395   84.943161   -5.056839  0  1  1  0  \n",
       "\n",
       "[14836 rows x 18 columns]"
      ]
     },
     "execution_count": 4,
     "metadata": {},
     "output_type": "execute_result"
    }
   ],
   "source": [
    "finaldf=pd.read_csv('finaldf.csv')\n",
    "finaldf"
   ]
  },
  {
   "cell_type": "markdown",
   "id": "1cb61a1f",
   "metadata": {},
   "source": [
    "## train_test_split"
   ]
  },
  {
   "cell_type": "code",
   "execution_count": 5,
   "id": "68998371",
   "metadata": {},
   "outputs": [],
   "source": [
    "X = finaldf.drop(['action'],axis=1).copy()\n",
    "y = finaldf['action']\n",
    "from sklearn.model_selection import train_test_split\n",
    "X_train, X_test, y_train, y_test = train_test_split(X, y,\n",
    "                                                       shuffle=True,\n",
    "                                                       random_state=435,\n",
    "                                                       test_size=.2,\n",
    "                                                       stratify=y)"
   ]
  },
  {
   "cell_type": "code",
   "execution_count": 6,
   "id": "dabce66b",
   "metadata": {},
   "outputs": [],
   "source": [
    "test_data=pd.concat([X_test,y_test],axis=1)\n",
    "test_data.to_csv('test_data.csv',index=False)"
   ]
  },
  {
   "cell_type": "code",
   "execution_count": 7,
   "id": "d673b99e",
   "metadata": {},
   "outputs": [],
   "source": [
    "X_train=X_train.drop(['frame_id'],axis=1).copy().values\n",
    "X_test=X_test.drop(['frame_id'],axis=1).copy().values\n",
    "y_train=y_train.values\n",
    "y_test=y_test.values"
   ]
  },
  {
   "cell_type": "markdown",
   "id": "22d212d8",
   "metadata": {},
   "source": [
    "## normal logistic regression"
   ]
  },
  {
   "cell_type": "code",
   "execution_count": 13,
   "id": "4f0474b9",
   "metadata": {},
   "outputs": [
    {
     "data": {
      "text/plain": [
       "LogisticRegression(max_iter=10000)"
      ]
     },
     "execution_count": 13,
     "metadata": {},
     "output_type": "execute_result"
    }
   ],
   "source": [
    "from sklearn.linear_model import LogisticRegression\n",
    "log_reg = LogisticRegression(solver='lbfgs', max_iter=10000)\n",
    "\n",
    "## fit the model\n",
    "log_reg.fit(X_train, y_train)\n",
    "#log_reg.fit(X_train.reshape(-1,1), y_train)"
   ]
  },
  {
   "cell_type": "code",
   "execution_count": 14,
   "id": "06e65937",
   "metadata": {},
   "outputs": [
    {
     "name": "stdout",
     "output_type": "stream",
     "text": [
      "Training Accuracy: 0.482979440512302\n"
     ]
    }
   ],
   "source": [
    "log_reg.predict(X_train)\n",
    "print(\"Training Accuracy:\", accuracy(y_train, log_reg.predict(X_train)))"
   ]
  },
  {
   "cell_type": "code",
   "execution_count": 15,
   "id": "7a344c63",
   "metadata": {},
   "outputs": [
    {
     "name": "stdout",
     "output_type": "stream",
     "text": [
      "Testing Accuracy: 0.4868598382749326\n"
     ]
    }
   ],
   "source": [
    "log_reg.predict(X_test)\n",
    "print(\"Testing Accuracy:\", accuracy(y_test, log_reg.predict(X_test)))"
   ]
  },
  {
   "cell_type": "code",
   "execution_count": 16,
   "id": "076ffd4f",
   "metadata": {},
   "outputs": [
    {
     "data": {
      "text/html": [
       "<div>\n",
       "<style scoped>\n",
       "    .dataframe tbody tr th:only-of-type {\n",
       "        vertical-align: middle;\n",
       "    }\n",
       "\n",
       "    .dataframe tbody tr th {\n",
       "        vertical-align: top;\n",
       "    }\n",
       "\n",
       "    .dataframe thead th {\n",
       "        text-align: right;\n",
       "    }\n",
       "</style>\n",
       "<table border=\"1\" class=\"dataframe\">\n",
       "  <thead>\n",
       "    <tr style=\"text-align: right;\">\n",
       "      <th></th>\n",
       "      <th>Predicted 0</th>\n",
       "      <th>Predicted 1</th>\n",
       "      <th>Predicted 2</th>\n",
       "      <th>Predicted 3</th>\n",
       "    </tr>\n",
       "  </thead>\n",
       "  <tbody>\n",
       "    <tr>\n",
       "      <th>Actual 0</th>\n",
       "      <td>426</td>\n",
       "      <td>6</td>\n",
       "      <td>69</td>\n",
       "      <td>159</td>\n",
       "    </tr>\n",
       "    <tr>\n",
       "      <th>Actual 1</th>\n",
       "      <td>165</td>\n",
       "      <td>62</td>\n",
       "      <td>425</td>\n",
       "      <td>91</td>\n",
       "    </tr>\n",
       "    <tr>\n",
       "      <th>Actual 2</th>\n",
       "      <td>140</td>\n",
       "      <td>60</td>\n",
       "      <td>562</td>\n",
       "      <td>175</td>\n",
       "    </tr>\n",
       "    <tr>\n",
       "      <th>Actual 3</th>\n",
       "      <td>128</td>\n",
       "      <td>2</td>\n",
       "      <td>103</td>\n",
       "      <td>395</td>\n",
       "    </tr>\n",
       "  </tbody>\n",
       "</table>\n",
       "</div>"
      ],
      "text/plain": [
       "          Predicted 0  Predicted 1  Predicted 2  Predicted 3\n",
       "Actual 0          426            6           69          159\n",
       "Actual 1          165           62          425           91\n",
       "Actual 2          140           60          562          175\n",
       "Actual 3          128            2          103          395"
      ]
     },
     "execution_count": 16,
     "metadata": {},
     "output_type": "execute_result"
    }
   ],
   "source": [
    "from sklearn.metrics import confusion_matrix\n",
    "conf_mat = confusion_matrix(y_test, log_reg.predict(X_test))\n",
    "pd.DataFrame(conf_mat,\n",
    "                 columns = ['Predicted 0', 'Predicted 1', 'Predicted 2','Predicted 3'],\n",
    "                 index = ['Actual 0', 'Actual 1', 'Actual 2','Actual 3'])"
   ]
  },
  {
   "cell_type": "markdown",
   "id": "3819d671",
   "metadata": {},
   "source": [
    "## multi-layer in sklearn"
   ]
  },
  {
   "cell_type": "code",
   "execution_count": 17,
   "id": "397ceb02",
   "metadata": {},
   "outputs": [],
   "source": [
    "from sklearn.preprocessing import MinMaxScaler"
   ]
  },
  {
   "cell_type": "code",
   "execution_count": 18,
   "id": "41142da8",
   "metadata": {},
   "outputs": [],
   "source": [
    "scaler=MinMaxScaler()\n",
    "scaler.fit(X_train)\n",
    "X_train=scaler.transform(X_train)\n",
    "X_test=scaler.transform(X_test)"
   ]
  },
  {
   "cell_type": "code",
   "execution_count": 19,
   "id": "52de8d96",
   "metadata": {},
   "outputs": [],
   "source": [
    "from sklearn.neural_network import MLPClassifier"
   ]
  },
  {
   "cell_type": "code",
   "execution_count": 20,
   "id": "ce575784",
   "metadata": {},
   "outputs": [],
   "source": [
    "mlp1 = MLPClassifier(hidden_layer_sizes=(100,100,100,100), max_iter=5000)"
   ]
  },
  {
   "cell_type": "code",
   "execution_count": 21,
   "id": "b3d2d2fd",
   "metadata": {},
   "outputs": [
    {
     "data": {
      "text/plain": [
       "MLPClassifier(hidden_layer_sizes=(100, 100, 100, 100), max_iter=5000)"
      ]
     },
     "execution_count": 21,
     "metadata": {},
     "output_type": "execute_result"
    }
   ],
   "source": [
    "mlp1.fit(X_train, y_train)"
   ]
  },
  {
   "cell_type": "code",
   "execution_count": 22,
   "id": "086a2ed3",
   "metadata": {},
   "outputs": [
    {
     "name": "stdout",
     "output_type": "stream",
     "text": [
      "Training Accuracy: 0.9477586788001349\n",
      "Testing Accuracy: 0.7328167115902965\n"
     ]
    }
   ],
   "source": [
    "def accuracy(true, predicted):\n",
    "    return np.sum(true==predicted)/len(predicted)\n",
    "print(\"Training Accuracy:\", accuracy(y_train, mlp1.predict(X_train)))\n",
    "print(\"Testing Accuracy:\", accuracy(y_test, mlp1.predict(X_test)))"
   ]
  },
  {
   "cell_type": "code",
   "execution_count": 23,
   "id": "f959929d",
   "metadata": {},
   "outputs": [
    {
     "data": {
      "text/plain": [
       "array([0, 3, 1, ..., 3, 3, 3], dtype=int64)"
      ]
     },
     "execution_count": 23,
     "metadata": {},
     "output_type": "execute_result"
    }
   ],
   "source": [
    "mlp1.predict(X_train)"
   ]
  },
  {
   "cell_type": "code",
   "execution_count": 24,
   "id": "d8ff917b",
   "metadata": {},
   "outputs": [
    {
     "data": {
      "text/html": [
       "<div>\n",
       "<style scoped>\n",
       "    .dataframe tbody tr th:only-of-type {\n",
       "        vertical-align: middle;\n",
       "    }\n",
       "\n",
       "    .dataframe tbody tr th {\n",
       "        vertical-align: top;\n",
       "    }\n",
       "\n",
       "    .dataframe thead th {\n",
       "        text-align: right;\n",
       "    }\n",
       "</style>\n",
       "<table border=\"1\" class=\"dataframe\">\n",
       "  <thead>\n",
       "    <tr style=\"text-align: right;\">\n",
       "      <th></th>\n",
       "      <th>Predicted 0</th>\n",
       "      <th>Predicted 1</th>\n",
       "      <th>Predicted 2</th>\n",
       "      <th>Predicted 3</th>\n",
       "    </tr>\n",
       "  </thead>\n",
       "  <tbody>\n",
       "    <tr>\n",
       "      <th>Actual 0</th>\n",
       "      <td>2493</td>\n",
       "      <td>32</td>\n",
       "      <td>68</td>\n",
       "      <td>44</td>\n",
       "    </tr>\n",
       "    <tr>\n",
       "      <th>Actual 1</th>\n",
       "      <td>33</td>\n",
       "      <td>2829</td>\n",
       "      <td>53</td>\n",
       "      <td>57</td>\n",
       "    </tr>\n",
       "    <tr>\n",
       "      <th>Actual 2</th>\n",
       "      <td>74</td>\n",
       "      <td>68</td>\n",
       "      <td>3523</td>\n",
       "      <td>82</td>\n",
       "    </tr>\n",
       "    <tr>\n",
       "      <th>Actual 3</th>\n",
       "      <td>20</td>\n",
       "      <td>49</td>\n",
       "      <td>40</td>\n",
       "      <td>2403</td>\n",
       "    </tr>\n",
       "  </tbody>\n",
       "</table>\n",
       "</div>"
      ],
      "text/plain": [
       "          Predicted 0  Predicted 1  Predicted 2  Predicted 3\n",
       "Actual 0         2493           32           68           44\n",
       "Actual 1           33         2829           53           57\n",
       "Actual 2           74           68         3523           82\n",
       "Actual 3           20           49           40         2403"
      ]
     },
     "execution_count": 24,
     "metadata": {},
     "output_type": "execute_result"
    }
   ],
   "source": [
    "from sklearn.metrics import confusion_matrix\n",
    "conf_mat = confusion_matrix(y_train, mlp1.predict(X_train))\n",
    "pd.DataFrame(conf_mat,\n",
    "                 columns = ['Predicted 0', 'Predicted 1', 'Predicted 2','Predicted 3'],\n",
    "                 index = ['Actual 0', 'Actual 1', 'Actual 2','Actual 3'])"
   ]
  },
  {
   "cell_type": "code",
   "execution_count": 25,
   "id": "1d6a26b2",
   "metadata": {},
   "outputs": [
    {
     "data": {
      "text/html": [
       "<div>\n",
       "<style scoped>\n",
       "    .dataframe tbody tr th:only-of-type {\n",
       "        vertical-align: middle;\n",
       "    }\n",
       "\n",
       "    .dataframe tbody tr th {\n",
       "        vertical-align: top;\n",
       "    }\n",
       "\n",
       "    .dataframe thead th {\n",
       "        text-align: right;\n",
       "    }\n",
       "</style>\n",
       "<table border=\"1\" class=\"dataframe\">\n",
       "  <thead>\n",
       "    <tr style=\"text-align: right;\">\n",
       "      <th></th>\n",
       "      <th>Predicted 0</th>\n",
       "      <th>Predicted 1</th>\n",
       "      <th>Predicted 2</th>\n",
       "      <th>Predicted 3</th>\n",
       "    </tr>\n",
       "  </thead>\n",
       "  <tbody>\n",
       "    <tr>\n",
       "      <th>Actual 0</th>\n",
       "      <td>458</td>\n",
       "      <td>56</td>\n",
       "      <td>80</td>\n",
       "      <td>66</td>\n",
       "    </tr>\n",
       "    <tr>\n",
       "      <th>Actual 1</th>\n",
       "      <td>49</td>\n",
       "      <td>553</td>\n",
       "      <td>87</td>\n",
       "      <td>54</td>\n",
       "    </tr>\n",
       "    <tr>\n",
       "      <th>Actual 2</th>\n",
       "      <td>70</td>\n",
       "      <td>87</td>\n",
       "      <td>705</td>\n",
       "      <td>75</td>\n",
       "    </tr>\n",
       "    <tr>\n",
       "      <th>Actual 3</th>\n",
       "      <td>57</td>\n",
       "      <td>48</td>\n",
       "      <td>64</td>\n",
       "      <td>459</td>\n",
       "    </tr>\n",
       "  </tbody>\n",
       "</table>\n",
       "</div>"
      ],
      "text/plain": [
       "          Predicted 0  Predicted 1  Predicted 2  Predicted 3\n",
       "Actual 0          458           56           80           66\n",
       "Actual 1           49          553           87           54\n",
       "Actual 2           70           87          705           75\n",
       "Actual 3           57           48           64          459"
      ]
     },
     "execution_count": 25,
     "metadata": {},
     "output_type": "execute_result"
    }
   ],
   "source": [
    "from sklearn.metrics import confusion_matrix\n",
    "conf_mat = confusion_matrix(y_test, mlp1.predict(X_test))\n",
    "pd.DataFrame(conf_mat,\n",
    "                 columns = ['Predicted 0', 'Predicted 1', 'Predicted 2','Predicted 3'],\n",
    "                 index = ['Actual 0', 'Actual 1', 'Actual 2','Actual 3'])"
   ]
  },
  {
   "cell_type": "markdown",
   "id": "91fffb95",
   "metadata": {},
   "source": [
    "## multilayer using keras"
   ]
  },
  {
   "cell_type": "code",
   "execution_count": 8,
   "id": "59f5f1e7",
   "metadata": {},
   "outputs": [],
   "source": [
    "import keras"
   ]
  },
  {
   "cell_type": "code",
   "execution_count": 9,
   "id": "a759ec2c",
   "metadata": {},
   "outputs": [],
   "source": [
    "from keras import models\n",
    "from keras import layers\n",
    "from keras import optimizers\n",
    "from keras import losses\n",
    "from keras import metrics\n",
    "from keras.utils.np_utils import to_categorical"
   ]
  },
  {
   "cell_type": "code",
   "execution_count": 10,
   "id": "cdc3b517",
   "metadata": {},
   "outputs": [],
   "source": [
    "md = models.Sequential()"
   ]
  },
  {
   "cell_type": "code",
   "execution_count": 11,
   "id": "cd1a9b29",
   "metadata": {},
   "outputs": [],
   "source": [
    "md.add(layers.Dense(100, activation = 'relu',input_shape=(16,)))\n",
    "md.add(layers.Dense(100, activation = 'relu'))\n",
    "md.add(layers.Dense(100, activation = 'relu'))\n",
    "md.add(layers.Dense(100, activation = 'relu'))\n",
    "md.add(layers.Dense(4, activation = 'softmax'))"
   ]
  },
  {
   "cell_type": "code",
   "execution_count": 12,
   "id": "69a45e96",
   "metadata": {},
   "outputs": [
    {
     "name": "stdout",
     "output_type": "stream",
     "text": [
      "Model: \"sequential\"\n",
      "_________________________________________________________________\n",
      " Layer (type)                Output Shape              Param #   \n",
      "=================================================================\n",
      " dense (Dense)               (None, 100)               1700      \n",
      "                                                                 \n",
      " dense_1 (Dense)             (None, 100)               10100     \n",
      "                                                                 \n",
      " dense_2 (Dense)             (None, 100)               10100     \n",
      "                                                                 \n",
      " dense_3 (Dense)             (None, 100)               10100     \n",
      "                                                                 \n",
      " dense_4 (Dense)             (None, 4)                 404       \n",
      "                                                                 \n",
      "=================================================================\n",
      "Total params: 32,404\n",
      "Trainable params: 32,404\n",
      "Non-trainable params: 0\n",
      "_________________________________________________________________\n"
     ]
    }
   ],
   "source": [
    "md.summary()"
   ]
  },
  {
   "cell_type": "code",
   "execution_count": 13,
   "id": "3dd9c440",
   "metadata": {},
   "outputs": [],
   "source": [
    "md.compile(optimizer='rmsprop', \n",
    "                 loss='categorical_crossentropy',\n",
    "                 metrics=['accuracy'])"
   ]
  },
  {
   "cell_type": "code",
   "execution_count": 14,
   "id": "e49fb085",
   "metadata": {},
   "outputs": [],
   "source": [
    "from sklearn.model_selection import train_test_split\n",
    "\n",
    "X_train_train,X_val,y_train_train,y_val = train_test_split(X_train, y_train,\n",
    "                                                          test_size=.2,\n",
    "                                                          shuffle=True,\n",
    "                                                          stratify=y_train,\n",
    "                                                          random_state=440)"
   ]
  },
  {
   "cell_type": "code",
   "execution_count": 15,
   "id": "7428404c",
   "metadata": {},
   "outputs": [
    {
     "data": {
      "text/plain": [
       "(2374, 16)"
      ]
     },
     "execution_count": 15,
     "metadata": {},
     "output_type": "execute_result"
    }
   ],
   "source": [
    "X_val.shape"
   ]
  },
  {
   "cell_type": "code",
   "execution_count": 16,
   "id": "4d5d0e5f",
   "metadata": {
    "scrolled": true
   },
   "outputs": [
    {
     "name": "stdout",
     "output_type": "stream",
     "text": [
      "Epoch 1/100\n",
      "19/19 [==============================] - 1s 22ms/step - loss: 3.6973 - accuracy: 0.3414 - val_loss: 1.8668 - val_accuracy: 0.3669\n",
      "Epoch 2/100\n",
      "19/19 [==============================] - 0s 8ms/step - loss: 1.7010 - accuracy: 0.3937 - val_loss: 1.7331 - val_accuracy: 0.4086\n",
      "Epoch 3/100\n",
      "19/19 [==============================] - 0s 8ms/step - loss: 1.4970 - accuracy: 0.4262 - val_loss: 1.7185 - val_accuracy: 0.4086\n",
      "Epoch 4/100\n",
      "19/19 [==============================] - 0s 7ms/step - loss: 1.3494 - accuracy: 0.4557 - val_loss: 1.3849 - val_accuracy: 0.4490\n",
      "Epoch 5/100\n",
      "19/19 [==============================] - 0s 7ms/step - loss: 1.3258 - accuracy: 0.4586 - val_loss: 1.3394 - val_accuracy: 0.4621\n",
      "Epoch 6/100\n",
      "19/19 [==============================] - 0s 7ms/step - loss: 1.2324 - accuracy: 0.4726 - val_loss: 1.3679 - val_accuracy: 0.4431\n",
      "Epoch 7/100\n",
      "19/19 [==============================] - 0s 8ms/step - loss: 1.1954 - accuracy: 0.4901 - val_loss: 1.2691 - val_accuracy: 0.4541\n",
      "Epoch 8/100\n",
      "19/19 [==============================] - 0s 7ms/step - loss: 1.1576 - accuracy: 0.5045 - val_loss: 1.2527 - val_accuracy: 0.4612\n",
      "Epoch 9/100\n",
      "19/19 [==============================] - 0s 6ms/step - loss: 1.1333 - accuracy: 0.5112 - val_loss: 1.2453 - val_accuracy: 0.4806\n",
      "Epoch 10/100\n",
      "19/19 [==============================] - 0s 7ms/step - loss: 1.1219 - accuracy: 0.5174 - val_loss: 1.3073 - val_accuracy: 0.4583\n",
      "Epoch 11/100\n",
      "19/19 [==============================] - 0s 7ms/step - loss: 1.0893 - accuracy: 0.5328 - val_loss: 1.2559 - val_accuracy: 0.4705\n",
      "Epoch 12/100\n",
      "19/19 [==============================] - 0s 7ms/step - loss: 1.0872 - accuracy: 0.5334 - val_loss: 1.2346 - val_accuracy: 0.4815\n",
      "Epoch 13/100\n",
      "19/19 [==============================] - 0s 7ms/step - loss: 1.0684 - accuracy: 0.5387 - val_loss: 1.2326 - val_accuracy: 0.4810\n",
      "Epoch 14/100\n",
      "19/19 [==============================] - 0s 7ms/step - loss: 1.0550 - accuracy: 0.5470 - val_loss: 1.2343 - val_accuracy: 0.4773\n",
      "Epoch 15/100\n",
      "19/19 [==============================] - 0s 8ms/step - loss: 1.0359 - accuracy: 0.5648 - val_loss: 1.2181 - val_accuracy: 0.4789\n",
      "Epoch 16/100\n",
      "19/19 [==============================] - 0s 7ms/step - loss: 1.0380 - accuracy: 0.5614 - val_loss: 1.2069 - val_accuracy: 0.4996\n",
      "Epoch 17/100\n",
      "19/19 [==============================] - 0s 7ms/step - loss: 1.0151 - accuracy: 0.5687 - val_loss: 1.2298 - val_accuracy: 0.4760\n",
      "Epoch 18/100\n",
      "19/19 [==============================] - 0s 7ms/step - loss: 1.0200 - accuracy: 0.5633 - val_loss: 1.1950 - val_accuracy: 0.5046\n",
      "Epoch 19/100\n",
      "19/19 [==============================] - 0s 7ms/step - loss: 0.9996 - accuracy: 0.5763 - val_loss: 1.1732 - val_accuracy: 0.4996\n",
      "Epoch 20/100\n",
      "19/19 [==============================] - 0s 8ms/step - loss: 0.9962 - accuracy: 0.5786 - val_loss: 1.1731 - val_accuracy: 0.5072\n",
      "Epoch 21/100\n",
      "19/19 [==============================] - 0s 10ms/step - loss: 0.9778 - accuracy: 0.5813 - val_loss: 1.1453 - val_accuracy: 0.5244\n",
      "Epoch 22/100\n",
      "19/19 [==============================] - 0s 10ms/step - loss: 0.9745 - accuracy: 0.5916 - val_loss: 1.1800 - val_accuracy: 0.4941\n",
      "Epoch 23/100\n",
      "19/19 [==============================] - 0s 7ms/step - loss: 0.9712 - accuracy: 0.5878 - val_loss: 1.2138 - val_accuracy: 0.4987\n",
      "Epoch 24/100\n",
      "19/19 [==============================] - 0s 8ms/step - loss: 0.9556 - accuracy: 0.5989 - val_loss: 1.1649 - val_accuracy: 0.5088\n",
      "Epoch 25/100\n",
      "19/19 [==============================] - 0s 8ms/step - loss: 0.9393 - accuracy: 0.6072 - val_loss: 1.2082 - val_accuracy: 0.4954\n",
      "Epoch 26/100\n",
      "19/19 [==============================] - 0s 10ms/step - loss: 0.9419 - accuracy: 0.6039 - val_loss: 1.1583 - val_accuracy: 0.5118\n",
      "Epoch 27/100\n",
      "19/19 [==============================] - 0s 11ms/step - loss: 0.9288 - accuracy: 0.6094 - val_loss: 1.1595 - val_accuracy: 0.5088\n",
      "Epoch 28/100\n",
      "19/19 [==============================] - 0s 10ms/step - loss: 0.9168 - accuracy: 0.6139 - val_loss: 1.1872 - val_accuracy: 0.5029\n",
      "Epoch 29/100\n",
      "19/19 [==============================] - 0s 10ms/step - loss: 0.9125 - accuracy: 0.6143 - val_loss: 1.1516 - val_accuracy: 0.5223\n",
      "Epoch 30/100\n",
      "19/19 [==============================] - 0s 9ms/step - loss: 0.9129 - accuracy: 0.6167 - val_loss: 1.1809 - val_accuracy: 0.5076\n",
      "Epoch 31/100\n",
      "19/19 [==============================] - 0s 9ms/step - loss: 0.8969 - accuracy: 0.6160 - val_loss: 1.1700 - val_accuracy: 0.5097\n",
      "Epoch 32/100\n",
      "19/19 [==============================] - 0s 9ms/step - loss: 0.8917 - accuracy: 0.6242 - val_loss: 1.2016 - val_accuracy: 0.4992\n",
      "Epoch 33/100\n",
      "19/19 [==============================] - 0s 8ms/step - loss: 0.8958 - accuracy: 0.6304 - val_loss: 1.1590 - val_accuracy: 0.5270\n",
      "Epoch 34/100\n",
      "19/19 [==============================] - 0s 7ms/step - loss: 0.8873 - accuracy: 0.6289 - val_loss: 1.2104 - val_accuracy: 0.4992\n",
      "Epoch 35/100\n",
      "19/19 [==============================] - 0s 6ms/step - loss: 0.8620 - accuracy: 0.6431 - val_loss: 1.1569 - val_accuracy: 0.5303\n",
      "Epoch 36/100\n",
      "19/19 [==============================] - 0s 7ms/step - loss: 0.8507 - accuracy: 0.6455 - val_loss: 1.3417 - val_accuracy: 0.4861\n",
      "Epoch 37/100\n",
      "19/19 [==============================] - 0s 8ms/step - loss: 0.8678 - accuracy: 0.6420 - val_loss: 1.1996 - val_accuracy: 0.5118\n",
      "Epoch 38/100\n",
      "19/19 [==============================] - 0s 8ms/step - loss: 0.8516 - accuracy: 0.6522 - val_loss: 1.1830 - val_accuracy: 0.5160\n",
      "Epoch 39/100\n",
      "19/19 [==============================] - 0s 7ms/step - loss: 0.8508 - accuracy: 0.6499 - val_loss: 1.1803 - val_accuracy: 0.5236\n",
      "Epoch 40/100\n",
      "19/19 [==============================] - 0s 7ms/step - loss: 0.8296 - accuracy: 0.6578 - val_loss: 1.1931 - val_accuracy: 0.5227\n",
      "Epoch 41/100\n",
      "19/19 [==============================] - 0s 7ms/step - loss: 0.8402 - accuracy: 0.6541 - val_loss: 1.2246 - val_accuracy: 0.5236\n",
      "Epoch 42/100\n",
      "19/19 [==============================] - 0s 7ms/step - loss: 0.8247 - accuracy: 0.6580 - val_loss: 1.2045 - val_accuracy: 0.5257\n",
      "Epoch 43/100\n",
      "19/19 [==============================] - 0s 7ms/step - loss: 0.8207 - accuracy: 0.6572 - val_loss: 1.2434 - val_accuracy: 0.5131\n",
      "Epoch 44/100\n",
      "19/19 [==============================] - 0s 6ms/step - loss: 0.8142 - accuracy: 0.6684 - val_loss: 1.2156 - val_accuracy: 0.5244\n",
      "Epoch 45/100\n",
      "19/19 [==============================] - 0s 6ms/step - loss: 0.8114 - accuracy: 0.6612 - val_loss: 1.2045 - val_accuracy: 0.5316\n",
      "Epoch 46/100\n",
      "19/19 [==============================] - 0s 8ms/step - loss: 0.8085 - accuracy: 0.6638 - val_loss: 1.2476 - val_accuracy: 0.5198\n",
      "Epoch 47/100\n",
      "19/19 [==============================] - 0s 10ms/step - loss: 0.7935 - accuracy: 0.6718 - val_loss: 1.2279 - val_accuracy: 0.5232\n",
      "Epoch 48/100\n",
      "19/19 [==============================] - 0s 12ms/step - loss: 0.7975 - accuracy: 0.6668 - val_loss: 1.2008 - val_accuracy: 0.5316\n",
      "Epoch 49/100\n",
      "19/19 [==============================] - 0s 9ms/step - loss: 0.7933 - accuracy: 0.6745 - val_loss: 1.2198 - val_accuracy: 0.5232\n",
      "Epoch 50/100\n",
      "19/19 [==============================] - 0s 8ms/step - loss: 0.7786 - accuracy: 0.6787 - val_loss: 1.2353 - val_accuracy: 0.5215\n",
      "Epoch 51/100\n",
      "19/19 [==============================] - 0s 9ms/step - loss: 0.7728 - accuracy: 0.6813 - val_loss: 1.2154 - val_accuracy: 0.5316\n",
      "Epoch 52/100\n",
      "19/19 [==============================] - 0s 9ms/step - loss: 0.7764 - accuracy: 0.6815 - val_loss: 1.2270 - val_accuracy: 0.5236\n",
      "Epoch 53/100\n",
      "19/19 [==============================] - 0s 12ms/step - loss: 0.7592 - accuracy: 0.6901 - val_loss: 1.2579 - val_accuracy: 0.5215\n",
      "Epoch 54/100\n",
      "19/19 [==============================] - 0s 9ms/step - loss: 0.7598 - accuracy: 0.6881 - val_loss: 1.2041 - val_accuracy: 0.5333\n",
      "Epoch 55/100\n",
      "19/19 [==============================] - 0s 7ms/step - loss: 0.7594 - accuracy: 0.6925 - val_loss: 1.2349 - val_accuracy: 0.5265\n",
      "Epoch 56/100\n",
      "19/19 [==============================] - 0s 7ms/step - loss: 0.7428 - accuracy: 0.6948 - val_loss: 1.2094 - val_accuracy: 0.5350\n",
      "Epoch 57/100\n",
      "19/19 [==============================] - 0s 7ms/step - loss: 0.7498 - accuracy: 0.6932 - val_loss: 1.2432 - val_accuracy: 0.5202\n",
      "Epoch 58/100\n",
      "19/19 [==============================] - 0s 8ms/step - loss: 0.7342 - accuracy: 0.6993 - val_loss: 1.2482 - val_accuracy: 0.5409\n"
     ]
    },
    {
     "name": "stdout",
     "output_type": "stream",
     "text": [
      "Epoch 59/100\n",
      "19/19 [==============================] - 0s 7ms/step - loss: 0.7388 - accuracy: 0.6959 - val_loss: 1.3015 - val_accuracy: 0.5177\n",
      "Epoch 60/100\n",
      "19/19 [==============================] - 0s 8ms/step - loss: 0.7151 - accuracy: 0.7132 - val_loss: 1.2545 - val_accuracy: 0.5493\n",
      "Epoch 61/100\n",
      "19/19 [==============================] - 0s 11ms/step - loss: 0.7241 - accuracy: 0.7040 - val_loss: 1.3068 - val_accuracy: 0.5202\n",
      "Epoch 62/100\n",
      "19/19 [==============================] - 0s 9ms/step - loss: 0.7122 - accuracy: 0.7083 - val_loss: 1.2351 - val_accuracy: 0.5316\n",
      "Epoch 63/100\n",
      "19/19 [==============================] - 0s 10ms/step - loss: 0.7206 - accuracy: 0.7023 - val_loss: 1.2226 - val_accuracy: 0.5447\n",
      "Epoch 64/100\n",
      "19/19 [==============================] - 0s 10ms/step - loss: 0.6937 - accuracy: 0.7219 - val_loss: 1.3158 - val_accuracy: 0.5194\n",
      "Epoch 65/100\n",
      "19/19 [==============================] - 0s 8ms/step - loss: 0.7172 - accuracy: 0.7030 - val_loss: 1.2760 - val_accuracy: 0.5295\n",
      "Epoch 66/100\n",
      "19/19 [==============================] - 0s 8ms/step - loss: 0.6947 - accuracy: 0.7165 - val_loss: 1.2328 - val_accuracy: 0.5501\n",
      "Epoch 67/100\n",
      "19/19 [==============================] - 0s 8ms/step - loss: 0.6929 - accuracy: 0.7213 - val_loss: 1.3143 - val_accuracy: 0.5320\n",
      "Epoch 68/100\n",
      "19/19 [==============================] - 0s 8ms/step - loss: 0.6930 - accuracy: 0.7182 - val_loss: 1.2897 - val_accuracy: 0.5388\n",
      "Epoch 69/100\n",
      "19/19 [==============================] - 0s 9ms/step - loss: 0.6815 - accuracy: 0.7266 - val_loss: 1.2921 - val_accuracy: 0.5303\n",
      "Epoch 70/100\n",
      "19/19 [==============================] - 0s 8ms/step - loss: 0.6843 - accuracy: 0.7188 - val_loss: 1.2770 - val_accuracy: 0.5417\n",
      "Epoch 71/100\n",
      "19/19 [==============================] - 0s 7ms/step - loss: 0.6824 - accuracy: 0.7222 - val_loss: 1.2657 - val_accuracy: 0.5484\n",
      "Epoch 72/100\n",
      "19/19 [==============================] - 0s 7ms/step - loss: 0.6638 - accuracy: 0.7309 - val_loss: 1.2903 - val_accuracy: 0.5244\n",
      "Epoch 73/100\n",
      "19/19 [==============================] - 0s 7ms/step - loss: 0.6719 - accuracy: 0.7246 - val_loss: 1.4242 - val_accuracy: 0.5126\n",
      "Epoch 74/100\n",
      "19/19 [==============================] - 0s 7ms/step - loss: 0.6507 - accuracy: 0.7354 - val_loss: 1.2778 - val_accuracy: 0.5518\n",
      "Epoch 75/100\n",
      "19/19 [==============================] - 0s 6ms/step - loss: 0.6652 - accuracy: 0.7321 - val_loss: 1.2840 - val_accuracy: 0.5442\n",
      "Epoch 76/100\n",
      "19/19 [==============================] - 0s 7ms/step - loss: 0.6325 - accuracy: 0.7442 - val_loss: 1.2354 - val_accuracy: 0.5539\n",
      "Epoch 77/100\n",
      "19/19 [==============================] - 0s 8ms/step - loss: 0.6658 - accuracy: 0.7291 - val_loss: 1.3857 - val_accuracy: 0.5345\n",
      "Epoch 78/100\n",
      "19/19 [==============================] - 0s 8ms/step - loss: 0.6353 - accuracy: 0.7493 - val_loss: 1.3637 - val_accuracy: 0.5333\n",
      "Epoch 79/100\n",
      "19/19 [==============================] - 0s 8ms/step - loss: 0.6447 - accuracy: 0.7374 - val_loss: 1.3185 - val_accuracy: 0.5459\n",
      "Epoch 80/100\n",
      "19/19 [==============================] - 0s 7ms/step - loss: 0.6428 - accuracy: 0.7422 - val_loss: 1.2555 - val_accuracy: 0.5463\n",
      "Epoch 81/100\n",
      "19/19 [==============================] - 0s 7ms/step - loss: 0.6077 - accuracy: 0.7573 - val_loss: 1.4301 - val_accuracy: 0.5274\n",
      "Epoch 82/100\n",
      "19/19 [==============================] - 0s 7ms/step - loss: 0.6425 - accuracy: 0.7387 - val_loss: 1.2392 - val_accuracy: 0.5607\n",
      "Epoch 83/100\n",
      "19/19 [==============================] - 0s 7ms/step - loss: 0.6219 - accuracy: 0.7501 - val_loss: 1.2733 - val_accuracy: 0.5548\n",
      "Epoch 84/100\n",
      "19/19 [==============================] - 0s 7ms/step - loss: 0.6224 - accuracy: 0.7465 - val_loss: 1.2730 - val_accuracy: 0.5552\n",
      "Epoch 85/100\n",
      "19/19 [==============================] - 0s 7ms/step - loss: 0.6160 - accuracy: 0.7557 - val_loss: 1.2409 - val_accuracy: 0.5590\n",
      "Epoch 86/100\n",
      "19/19 [==============================] - 0s 8ms/step - loss: 0.6106 - accuracy: 0.7563 - val_loss: 1.2713 - val_accuracy: 0.5628\n",
      "Epoch 87/100\n",
      "19/19 [==============================] - 0s 7ms/step - loss: 0.6146 - accuracy: 0.7539 - val_loss: 1.3236 - val_accuracy: 0.5514\n",
      "Epoch 88/100\n",
      "19/19 [==============================] - 0s 8ms/step - loss: 0.6046 - accuracy: 0.7620 - val_loss: 1.3480 - val_accuracy: 0.5489\n",
      "Epoch 89/100\n",
      "19/19 [==============================] - 0s 7ms/step - loss: 0.5992 - accuracy: 0.7615 - val_loss: 1.2993 - val_accuracy: 0.5497\n",
      "Epoch 90/100\n",
      "19/19 [==============================] - 0s 7ms/step - loss: 0.5890 - accuracy: 0.7615 - val_loss: 1.3281 - val_accuracy: 0.5468\n",
      "Epoch 91/100\n",
      "19/19 [==============================] - 0s 7ms/step - loss: 0.5869 - accuracy: 0.7655 - val_loss: 1.3626 - val_accuracy: 0.5396\n",
      "Epoch 92/100\n",
      "19/19 [==============================] - 0s 7ms/step - loss: 0.5758 - accuracy: 0.7700 - val_loss: 1.3700 - val_accuracy: 0.5489\n",
      "Epoch 93/100\n",
      "19/19 [==============================] - 0s 8ms/step - loss: 0.5907 - accuracy: 0.7636 - val_loss: 1.3567 - val_accuracy: 0.5497\n",
      "Epoch 94/100\n",
      "19/19 [==============================] - 0s 7ms/step - loss: 0.5871 - accuracy: 0.7663 - val_loss: 1.3614 - val_accuracy: 0.5615\n",
      "Epoch 95/100\n",
      "19/19 [==============================] - 0s 8ms/step - loss: 0.5770 - accuracy: 0.7689 - val_loss: 1.2982 - val_accuracy: 0.5590\n",
      "Epoch 96/100\n",
      "19/19 [==============================] - 0s 9ms/step - loss: 0.5819 - accuracy: 0.7706 - val_loss: 1.3080 - val_accuracy: 0.5602\n",
      "Epoch 97/100\n",
      "19/19 [==============================] - 0s 7ms/step - loss: 0.5567 - accuracy: 0.7793 - val_loss: 1.5459 - val_accuracy: 0.5451\n",
      "Epoch 98/100\n",
      "19/19 [==============================] - 0s 7ms/step - loss: 0.5786 - accuracy: 0.7664 - val_loss: 1.3406 - val_accuracy: 0.5560\n",
      "Epoch 99/100\n",
      "19/19 [==============================] - 0s 7ms/step - loss: 0.5500 - accuracy: 0.7833 - val_loss: 1.3430 - val_accuracy: 0.5472\n",
      "Epoch 100/100\n",
      "19/19 [==============================] - 0s 7ms/step - loss: 0.5523 - accuracy: 0.7786 - val_loss: 1.4128 - val_accuracy: 0.5497\n"
     ]
    }
   ],
   "source": [
    "n_epochs = 100\n",
    "batch_size = 512\n",
    "\n",
    "\n",
    "\n",
    "history = md.fit(X_train_train, to_categorical(y_train_train),\n",
    "                       epochs = n_epochs,\n",
    "                       batch_size = batch_size,\n",
    "                       validation_data = (X_val, to_categorical(y_val)))"
   ]
  },
  {
   "cell_type": "code",
   "execution_count": 17,
   "id": "69116f49",
   "metadata": {},
   "outputs": [],
   "source": [
    "history_dict = history.history"
   ]
  },
  {
   "cell_type": "code",
   "execution_count": 18,
   "id": "82fb2247",
   "metadata": {},
   "outputs": [
    {
     "data": {
      "image/png": "[encoded data removed]",
      "text/plain": [
       "<Figure size 1008x432 with 1 Axes>"
      ]
     },
     "metadata": {},
     "output_type": "display_data"
    },
    {
     "data": {
      "image/png": "[encoded data removed]",
      "text/plain": [
       "<Figure size 1008x432 with 1 Axes>"
      ]
     },
     "metadata": {},
     "output_type": "display_data"
    }
   ],
   "source": [
    "plt.figure(figsize = (14,6))\n",
    "\n",
    "plt.scatter(range(1,n_epochs+1), history_dict['accuracy'], label = \"Training Accuracy\")\n",
    "plt.scatter(range(1,n_epochs+1), history_dict['val_accuracy'], marker='v', label = \"Validation Set Accuracy\")\n",
    "\n",
    "plt.xlabel(\"Epoch\", fontsize=18)\n",
    "plt.ylabel(\"Accuracy\", fontsize=18)\n",
    "\n",
    "plt.xticks(fontsize=16)\n",
    "plt.yticks(fontsize=16)\n",
    "\n",
    "plt.legend(fontsize=18)\n",
    "\n",
    "plt.show()\n",
    "\n",
    "\n",
    "plt.figure(figsize = (14,6))\n",
    "\n",
    "plt.scatter(range(1,n_epochs+1), history_dict['loss'], label = \"Training Loss\")\n",
    "plt.scatter(range(1,n_epochs+1), history_dict['val_loss'], marker='v', label = \"Validation Set Loss\")\n",
    "\n",
    "plt.xlabel(\"Epoch\", fontsize=18)\n",
    "plt.ylabel(\"Loss Function Value\", fontsize=18)\n",
    "\n",
    "plt.xticks(fontsize=16)\n",
    "plt.yticks(fontsize=16)\n",
    "\n",
    "plt.legend(fontsize=18)\n",
    "\n",
    "plt.show()"
   ]
  },
  {
   "cell_type": "code",
   "execution_count": 19,
   "id": "450d222c",
   "metadata": {},
   "outputs": [
    {
     "name": "stdout",
     "output_type": "stream",
     "text": [
      "371/371 [==============================] - 1s 1ms/step\n"
     ]
    },
    {
     "data": {
      "text/plain": [
       "array([0, 0, 1, ..., 3, 3, 3], dtype=int64)"
      ]
     },
     "execution_count": 19,
     "metadata": {},
     "output_type": "execute_result"
    }
   ],
   "source": [
    "pred=np.argmax(md.predict(X_train), axis=1)\n",
    "pred"
   ]
  },
  {
   "cell_type": "code",
   "execution_count": 20,
   "id": "7883e5ed",
   "metadata": {},
   "outputs": [
    {
     "name": "stdout",
     "output_type": "stream",
     "text": [
      "93/93 [==============================] - 0s 1ms/step\n",
      "Testing accuracy: 54.68\n",
      "371/371 [==============================] - 0s 1ms/step\n",
      "Training accuracy: 72.71\n"
     ]
    }
   ],
   "source": [
    "from sklearn.metrics import accuracy_score\n",
    "print('Testing accuracy:',np.round(100*accuracy_score(y_test, np.argmax(md.predict(X_test), axis=1)),2))\n",
    "print('Training accuracy:',np.round(100*accuracy_score(y_train, np.argmax(md.predict(X_train), axis=1)),2))"
   ]
  },
  {
   "cell_type": "code",
   "execution_count": 21,
   "id": "c9fa4c3e",
   "metadata": {},
   "outputs": [
    {
     "name": "stdout",
     "output_type": "stream",
     "text": [
      "371/371 [==============================] - 0s 1ms/step\n"
     ]
    },
    {
     "data": {
      "text/html": [
       "<div>\n",
       "<style scoped>\n",
       "    .dataframe tbody tr th:only-of-type {\n",
       "        vertical-align: middle;\n",
       "    }\n",
       "\n",
       "    .dataframe tbody tr th {\n",
       "        vertical-align: top;\n",
       "    }\n",
       "\n",
       "    .dataframe thead th {\n",
       "        text-align: right;\n",
       "    }\n",
       "</style>\n",
       "<table border=\"1\" class=\"dataframe\">\n",
       "  <thead>\n",
       "    <tr style=\"text-align: right;\">\n",
       "      <th></th>\n",
       "      <th>Predicted 0</th>\n",
       "      <th>Predicted 1</th>\n",
       "      <th>Predicted 2</th>\n",
       "      <th>Predicted 3</th>\n",
       "    </tr>\n",
       "  </thead>\n",
       "  <tbody>\n",
       "    <tr>\n",
       "      <th>Actual 0</th>\n",
       "      <td>1607</td>\n",
       "      <td>266</td>\n",
       "      <td>663</td>\n",
       "      <td>101</td>\n",
       "    </tr>\n",
       "    <tr>\n",
       "      <th>Actual 1</th>\n",
       "      <td>149</td>\n",
       "      <td>2360</td>\n",
       "      <td>364</td>\n",
       "      <td>99</td>\n",
       "    </tr>\n",
       "    <tr>\n",
       "      <th>Actual 2</th>\n",
       "      <td>125</td>\n",
       "      <td>325</td>\n",
       "      <td>3172</td>\n",
       "      <td>125</td>\n",
       "    </tr>\n",
       "    <tr>\n",
       "      <th>Actual 3</th>\n",
       "      <td>126</td>\n",
       "      <td>464</td>\n",
       "      <td>432</td>\n",
       "      <td>1490</td>\n",
       "    </tr>\n",
       "  </tbody>\n",
       "</table>\n",
       "</div>"
      ],
      "text/plain": [
       "          Predicted 0  Predicted 1  Predicted 2  Predicted 3\n",
       "Actual 0         1607          266          663          101\n",
       "Actual 1          149         2360          364           99\n",
       "Actual 2          125          325         3172          125\n",
       "Actual 3          126          464          432         1490"
      ]
     },
     "execution_count": 21,
     "metadata": {},
     "output_type": "execute_result"
    }
   ],
   "source": [
    "from sklearn.metrics import confusion_matrix\n",
    "conf_mat = confusion_matrix(y_train,np.argmax(md.predict(X_train), axis=1))\n",
    "pd.DataFrame(conf_mat,\n",
    "                 columns = ['Predicted 0', 'Predicted 1', 'Predicted 2','Predicted 3'],\n",
    "                 index = ['Actual 0', 'Actual 1', 'Actual 2','Actual 3'])"
   ]
  },
  {
   "cell_type": "code",
   "execution_count": 22,
   "id": "60ab45f5",
   "metadata": {},
   "outputs": [
    {
     "name": "stdout",
     "output_type": "stream",
     "text": [
      "93/93 [==============================] - 0s 1ms/step\n"
     ]
    },
    {
     "data": {
      "text/html": [
       "<div>\n",
       "<style scoped>\n",
       "    .dataframe tbody tr th:only-of-type {\n",
       "        vertical-align: middle;\n",
       "    }\n",
       "\n",
       "    .dataframe tbody tr th {\n",
       "        vertical-align: top;\n",
       "    }\n",
       "\n",
       "    .dataframe thead th {\n",
       "        text-align: right;\n",
       "    }\n",
       "</style>\n",
       "<table border=\"1\" class=\"dataframe\">\n",
       "  <thead>\n",
       "    <tr style=\"text-align: right;\">\n",
       "      <th></th>\n",
       "      <th>Predicted 0</th>\n",
       "      <th>Predicted 1</th>\n",
       "      <th>Predicted 2</th>\n",
       "      <th>Predicted 3</th>\n",
       "    </tr>\n",
       "  </thead>\n",
       "  <tbody>\n",
       "    <tr>\n",
       "      <th>Actual 0</th>\n",
       "      <td>272</td>\n",
       "      <td>116</td>\n",
       "      <td>236</td>\n",
       "      <td>36</td>\n",
       "    </tr>\n",
       "    <tr>\n",
       "      <th>Actual 1</th>\n",
       "      <td>89</td>\n",
       "      <td>447</td>\n",
       "      <td>150</td>\n",
       "      <td>57</td>\n",
       "    </tr>\n",
       "    <tr>\n",
       "      <th>Actual 2</th>\n",
       "      <td>81</td>\n",
       "      <td>123</td>\n",
       "      <td>658</td>\n",
       "      <td>75</td>\n",
       "    </tr>\n",
       "    <tr>\n",
       "      <th>Actual 3</th>\n",
       "      <td>54</td>\n",
       "      <td>172</td>\n",
       "      <td>156</td>\n",
       "      <td>246</td>\n",
       "    </tr>\n",
       "  </tbody>\n",
       "</table>\n",
       "</div>"
      ],
      "text/plain": [
       "          Predicted 0  Predicted 1  Predicted 2  Predicted 3\n",
       "Actual 0          272          116          236           36\n",
       "Actual 1           89          447          150           57\n",
       "Actual 2           81          123          658           75\n",
       "Actual 3           54          172          156          246"
      ]
     },
     "execution_count": 22,
     "metadata": {},
     "output_type": "execute_result"
    }
   ],
   "source": [
    "from sklearn.metrics import confusion_matrix\n",
    "conf_mat = confusion_matrix(y_test,np.argmax(md.predict(X_test), axis=1))\n",
    "pd.DataFrame(conf_mat,\n",
    "                 columns = ['Predicted 0', 'Predicted 1', 'Predicted 2','Predicted 3'],\n",
    "                 index = ['Actual 0', 'Actual 1', 'Actual 2','Actual 3'])"
   ]
  },
  {
   "cell_type": "code",
   "execution_count": null,
   "id": "d501022f",
   "metadata": {},
   "outputs": [],
   "source": []
  },
  {
   "cell_type": "code",
   "execution_count": null,
   "id": "0a60357c",
   "metadata": {},
   "outputs": [],
   "source": []
  }
 ],
 "metadata": {
  "kernelspec": {
   "display_name": "Python 3 (ipykernel)",
   "language": "python",
   "name": "python3"
  },
  "language_info": {
   "codemirror_mode": {
    "name": "ipython",
    "version": 3
   },
   "file_extension": ".py",
   "mimetype": "text/x-python",
   "name": "python",
   "nbconvert_exporter": "python",
   "pygments_lexer": "ipython3",
   "version": "3.9.12"
  }
 },
 "nbformat": 4,
 "nbformat_minor": 5
}
