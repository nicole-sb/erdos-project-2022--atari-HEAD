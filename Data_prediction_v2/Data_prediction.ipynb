{
 "cells": [
  {
   "cell_type": "code",
   "execution_count": 2,
   "id": "946cab09",
   "metadata": {},
   "outputs": [],
   "source": [
    "## For data handling\n",
    "import pandas as pd\n",
    "import numpy as np\n",
    "\n",
    "## For plotting\n",
    "import matplotlib.pyplot as plt\n",
    "from seaborn import set_style\n",
    "\n",
    "## This sets the plot style\n",
    "## to have a grid on a dark background\n",
    "set_style(\"whitegrid\")"
   ]
  },
  {
   "cell_type": "code",
   "execution_count": 3,
   "id": "28fd7391",
   "metadata": {},
   "outputs": [],
   "source": [
    "from usefunc import findangamp,findang\n",
    "from usefunc import mostvalue, possibleaction,findpacman\n",
    "from usefunc import pickaction\n",
    "from usefunc import accuracy"
   ]
  },
  {
   "cell_type": "markdown",
   "id": "ecdfc068",
   "metadata": {},
   "source": [
    "# Data training and predictions"
   ]
  },
  {
   "cell_type": "code",
   "execution_count": 4,
   "id": "2aacf591",
   "metadata": {},
   "outputs": [
    {
     "data": {
      "text/html": [
       "<div>\n",
       "<style scoped>\n",
       "    .dataframe tbody tr th:only-of-type {\n",
       "        vertical-align: middle;\n",
       "    }\n",
       "\n",
       "    .dataframe tbody tr th {\n",
       "        vertical-align: top;\n",
       "    }\n",
       "\n",
       "    .dataframe thead th {\n",
       "        text-align: right;\n",
       "    }\n",
       "</style>\n",
       "<table border=\"1\" class=\"dataframe\">\n",
       "  <thead>\n",
       "    <tr style=\"text-align: right;\">\n",
       "      <th></th>\n",
       "      <th>frame_id</th>\n",
       "      <th>action</th>\n",
       "      <th>gaze_variance0</th>\n",
       "      <th>gaze_variance1</th>\n",
       "      <th>ghost_amp</th>\n",
       "      <th>ghost_angle</th>\n",
       "      <th>mean_angle</th>\n",
       "      <th>mean_amplitude</th>\n",
       "      <th>start_angle</th>\n",
       "      <th>start_amplitude</th>\n",
       "      <th>end_angle</th>\n",
       "      <th>end_amplitude</th>\n",
       "      <th>com_angle0</th>\n",
       "      <th>com_angle1</th>\n",
       "      <th>0</th>\n",
       "      <th>1</th>\n",
       "      <th>2</th>\n",
       "      <th>3</th>\n",
       "    </tr>\n",
       "  </thead>\n",
       "  <tbody>\n",
       "    <tr>\n",
       "      <th>0</th>\n",
       "      <td>RZ_5037271_4</td>\n",
       "      <td>0</td>\n",
       "      <td>0.035883</td>\n",
       "      <td>0.003952</td>\n",
       "      <td>44.150837</td>\n",
       "      <td>79.934677</td>\n",
       "      <td>-107.945729</td>\n",
       "      <td>13.799091</td>\n",
       "      <td>-107.185325</td>\n",
       "      <td>14.126018</td>\n",
       "      <td>-108.034756</td>\n",
       "      <td>13.771982</td>\n",
       "      <td>-72.986692</td>\n",
       "      <td>-162.986692</td>\n",
       "      <td>1</td>\n",
       "      <td>0</td>\n",
       "      <td>1</td>\n",
       "      <td>1</td>\n",
       "    </tr>\n",
       "    <tr>\n",
       "      <th>1</th>\n",
       "      <td>RZ_5037271_5</td>\n",
       "      <td>0</td>\n",
       "      <td>0.029144</td>\n",
       "      <td>0.004015</td>\n",
       "      <td>43.987088</td>\n",
       "      <td>81.217296</td>\n",
       "      <td>-108.305842</td>\n",
       "      <td>13.905737</td>\n",
       "      <td>-108.019981</td>\n",
       "      <td>13.718247</td>\n",
       "      <td>-108.533426</td>\n",
       "      <td>13.948754</td>\n",
       "      <td>-97.508199</td>\n",
       "      <td>-7.508199</td>\n",
       "      <td>1</td>\n",
       "      <td>0</td>\n",
       "      <td>1</td>\n",
       "      <td>1</td>\n",
       "    </tr>\n",
       "    <tr>\n",
       "      <th>2</th>\n",
       "      <td>RZ_5037271_6</td>\n",
       "      <td>0</td>\n",
       "      <td>0.070980</td>\n",
       "      <td>0.008503</td>\n",
       "      <td>46.737023</td>\n",
       "      <td>81.776845</td>\n",
       "      <td>-113.643011</td>\n",
       "      <td>11.329768</td>\n",
       "      <td>-112.825956</td>\n",
       "      <td>11.381482</td>\n",
       "      <td>-114.635915</td>\n",
       "      <td>11.287626</td>\n",
       "      <td>97.549158</td>\n",
       "      <td>7.549158</td>\n",
       "      <td>1</td>\n",
       "      <td>1</td>\n",
       "      <td>1</td>\n",
       "      <td>1</td>\n",
       "    </tr>\n",
       "    <tr>\n",
       "      <th>3</th>\n",
       "      <td>RZ_5037271_7</td>\n",
       "      <td>0</td>\n",
       "      <td>0.047391</td>\n",
       "      <td>0.008704</td>\n",
       "      <td>46.604505</td>\n",
       "      <td>82.993701</td>\n",
       "      <td>-112.911807</td>\n",
       "      <td>11.766484</td>\n",
       "      <td>-114.404793</td>\n",
       "      <td>11.266875</td>\n",
       "      <td>-112.830973</td>\n",
       "      <td>11.946105</td>\n",
       "      <td>95.946701</td>\n",
       "      <td>-174.053299</td>\n",
       "      <td>1</td>\n",
       "      <td>1</td>\n",
       "      <td>1</td>\n",
       "      <td>1</td>\n",
       "    </tr>\n",
       "    <tr>\n",
       "      <th>4</th>\n",
       "      <td>RZ_5037271_8</td>\n",
       "      <td>0</td>\n",
       "      <td>0.054097</td>\n",
       "      <td>0.008667</td>\n",
       "      <td>48.590183</td>\n",
       "      <td>83.281367</td>\n",
       "      <td>-118.595054</td>\n",
       "      <td>9.801289</td>\n",
       "      <td>-117.223417</td>\n",
       "      <td>10.132558</td>\n",
       "      <td>-118.731446</td>\n",
       "      <td>9.705029</td>\n",
       "      <td>-83.923473</td>\n",
       "      <td>-173.923473</td>\n",
       "      <td>1</td>\n",
       "      <td>1</td>\n",
       "      <td>1</td>\n",
       "      <td>1</td>\n",
       "    </tr>\n",
       "    <tr>\n",
       "      <th>...</th>\n",
       "      <td>...</td>\n",
       "      <td>...</td>\n",
       "      <td>...</td>\n",
       "      <td>...</td>\n",
       "      <td>...</td>\n",
       "      <td>...</td>\n",
       "      <td>...</td>\n",
       "      <td>...</td>\n",
       "      <td>...</td>\n",
       "      <td>...</td>\n",
       "      <td>...</td>\n",
       "      <td>...</td>\n",
       "      <td>...</td>\n",
       "      <td>...</td>\n",
       "      <td>...</td>\n",
       "      <td>...</td>\n",
       "      <td>...</td>\n",
       "      <td>...</td>\n",
       "    </tr>\n",
       "    <tr>\n",
       "      <th>14831</th>\n",
       "      <td>RZ_5037271_17306</td>\n",
       "      <td>2</td>\n",
       "      <td>1.469895</td>\n",
       "      <td>0.012684</td>\n",
       "      <td>110.304549</td>\n",
       "      <td>118.971830</td>\n",
       "      <td>114.338379</td>\n",
       "      <td>170.906662</td>\n",
       "      <td>114.227716</td>\n",
       "      <td>173.210204</td>\n",
       "      <td>114.409012</td>\n",
       "      <td>169.460775</td>\n",
       "      <td>107.107439</td>\n",
       "      <td>17.107439</td>\n",
       "      <td>0</td>\n",
       "      <td>1</td>\n",
       "      <td>1</td>\n",
       "      <td>0</td>\n",
       "    </tr>\n",
       "    <tr>\n",
       "      <th>14832</th>\n",
       "      <td>RZ_5037271_17307</td>\n",
       "      <td>2</td>\n",
       "      <td>0.355787</td>\n",
       "      <td>0.007117</td>\n",
       "      <td>4.371057</td>\n",
       "      <td>174.801436</td>\n",
       "      <td>114.535687</td>\n",
       "      <td>168.796607</td>\n",
       "      <td>114.426354</td>\n",
       "      <td>169.396198</td>\n",
       "      <td>114.754752</td>\n",
       "      <td>167.693789</td>\n",
       "      <td>-90.909502</td>\n",
       "      <td>179.090498</td>\n",
       "      <td>0</td>\n",
       "      <td>1</td>\n",
       "      <td>1</td>\n",
       "      <td>0</td>\n",
       "    </tr>\n",
       "    <tr>\n",
       "      <th>14833</th>\n",
       "      <td>RZ_5037271_17308</td>\n",
       "      <td>2</td>\n",
       "      <td>121.790149</td>\n",
       "      <td>0.890204</td>\n",
       "      <td>8.807570</td>\n",
       "      <td>30.731556</td>\n",
       "      <td>111.307934</td>\n",
       "      <td>194.162089</td>\n",
       "      <td>114.669279</td>\n",
       "      <td>168.382020</td>\n",
       "      <td>110.389077</td>\n",
       "      <td>199.140620</td>\n",
       "      <td>-91.365272</td>\n",
       "      <td>178.634728</td>\n",
       "      <td>0</td>\n",
       "      <td>1</td>\n",
       "      <td>1</td>\n",
       "      <td>0</td>\n",
       "    </tr>\n",
       "    <tr>\n",
       "      <th>14834</th>\n",
       "      <td>RZ_5037271_17309</td>\n",
       "      <td>2</td>\n",
       "      <td>0.362737</td>\n",
       "      <td>0.011814</td>\n",
       "      <td>110.207812</td>\n",
       "      <td>118.880865</td>\n",
       "      <td>110.525212</td>\n",
       "      <td>198.067893</td>\n",
       "      <td>110.404123</td>\n",
       "      <td>199.000024</td>\n",
       "      <td>110.641052</td>\n",
       "      <td>197.352773</td>\n",
       "      <td>84.028416</td>\n",
       "      <td>-5.971584</td>\n",
       "      <td>0</td>\n",
       "      <td>1</td>\n",
       "      <td>1</td>\n",
       "      <td>0</td>\n",
       "    </tr>\n",
       "    <tr>\n",
       "      <th>14835</th>\n",
       "      <td>RZ_5037271_17310</td>\n",
       "      <td>2</td>\n",
       "      <td>0.035195</td>\n",
       "      <td>0.004730</td>\n",
       "      <td>4.502770</td>\n",
       "      <td>174.748690</td>\n",
       "      <td>110.777787</td>\n",
       "      <td>197.703614</td>\n",
       "      <td>110.788055</td>\n",
       "      <td>197.665505</td>\n",
       "      <td>110.785246</td>\n",
       "      <td>197.747395</td>\n",
       "      <td>84.943161</td>\n",
       "      <td>-5.056839</td>\n",
       "      <td>0</td>\n",
       "      <td>1</td>\n",
       "      <td>1</td>\n",
       "      <td>0</td>\n",
       "    </tr>\n",
       "  </tbody>\n",
       "</table>\n",
       "<p>14836 rows × 18 columns</p>\n",
       "</div>"
      ],
      "text/plain": [
       "               frame_id  action  gaze_variance0  gaze_variance1   ghost_amp  \\\n",
       "0          RZ_5037271_4       0        0.035883        0.003952   44.150837   \n",
       "1          RZ_5037271_5       0        0.029144        0.004015   43.987088   \n",
       "2          RZ_5037271_6       0        0.070980        0.008503   46.737023   \n",
       "3          RZ_5037271_7       0        0.047391        0.008704   46.604505   \n",
       "4          RZ_5037271_8       0        0.054097        0.008667   48.590183   \n",
       "...                 ...     ...             ...             ...         ...   \n",
       "14831  RZ_5037271_17306       2        1.469895        0.012684  110.304549   \n",
       "14832  RZ_5037271_17307       2        0.355787        0.007117    4.371057   \n",
       "14833  RZ_5037271_17308       2      121.790149        0.890204    8.807570   \n",
       "14834  RZ_5037271_17309       2        0.362737        0.011814  110.207812   \n",
       "14835  RZ_5037271_17310       2        0.035195        0.004730    4.502770   \n",
       "\n",
       "       ghost_angle  mean_angle  mean_amplitude  start_angle  start_amplitude  \\\n",
       "0        79.934677 -107.945729       13.799091  -107.185325        14.126018   \n",
       "1        81.217296 -108.305842       13.905737  -108.019981        13.718247   \n",
       "2        81.776845 -113.643011       11.329768  -112.825956        11.381482   \n",
       "3        82.993701 -112.911807       11.766484  -114.404793        11.266875   \n",
       "4        83.281367 -118.595054        9.801289  -117.223417        10.132558   \n",
       "...            ...         ...             ...          ...              ...   \n",
       "14831   118.971830  114.338379      170.906662   114.227716       173.210204   \n",
       "14832   174.801436  114.535687      168.796607   114.426354       169.396198   \n",
       "14833    30.731556  111.307934      194.162089   114.669279       168.382020   \n",
       "14834   118.880865  110.525212      198.067893   110.404123       199.000024   \n",
       "14835   174.748690  110.777787      197.703614   110.788055       197.665505   \n",
       "\n",
       "        end_angle  end_amplitude  com_angle0  com_angle1  0  1  2  3  \n",
       "0     -108.034756      13.771982  -72.986692 -162.986692  1  0  1  1  \n",
       "1     -108.533426      13.948754  -97.508199   -7.508199  1  0  1  1  \n",
       "2     -114.635915      11.287626   97.549158    7.549158  1  1  1  1  \n",
       "3     -112.830973      11.946105   95.946701 -174.053299  1  1  1  1  \n",
       "4     -118.731446       9.705029  -83.923473 -173.923473  1  1  1  1  \n",
       "...           ...            ...         ...         ... .. .. .. ..  \n",
       "14831  114.409012     169.460775  107.107439   17.107439  0  1  1  0  \n",
       "14832  114.754752     167.693789  -90.909502  179.090498  0  1  1  0  \n",
       "14833  110.389077     199.140620  -91.365272  178.634728  0  1  1  0  \n",
       "14834  110.641052     197.352773   84.028416   -5.971584  0  1  1  0  \n",
       "14835  110.785246     197.747395   84.943161   -5.056839  0  1  1  0  \n",
       "\n",
       "[14836 rows x 18 columns]"
      ]
     },
     "execution_count": 4,
     "metadata": {},
     "output_type": "execute_result"
    }
   ],
   "source": [
    "finaldf=pd.read_csv('finaldf.csv')\n",
    "finaldf"
   ]
  },
  {
   "cell_type": "markdown",
   "id": "1cb61a1f",
   "metadata": {},
   "source": [
    "## train_test_split"
   ]
  },
  {
   "cell_type": "code",
   "execution_count": 5,
   "id": "68998371",
   "metadata": {},
   "outputs": [],
   "source": [
    "X = finaldf.drop(['action'],axis=1).copy()\n",
    "y = finaldf['action']\n",
    "from sklearn.model_selection import train_test_split\n",
    "X_train, X_test, y_train, y_test = train_test_split(X, y,\n",
    "                                                       shuffle=True,\n",
    "                                                       random_state=435,\n",
    "                                                       test_size=.2,\n",
    "                                                       stratify=y)"
   ]
  },
  {
   "cell_type": "code",
   "execution_count": 6,
   "id": "dabce66b",
   "metadata": {},
   "outputs": [],
   "source": [
    "test_data=pd.concat([X_test,y_test],axis=1)\n",
    "test_data.to_csv('test_data.csv',index=False)"
   ]
  },
  {
   "cell_type": "code",
   "execution_count": 7,
   "id": "d673b99e",
   "metadata": {},
   "outputs": [],
   "source": [
    "X_train=X_train.drop(['frame_id'],axis=1).copy().values\n",
    "X_test=X_test.drop(['frame_id'],axis=1).copy().values\n",
    "y_train=y_train.values\n",
    "y_test=y_test.values"
   ]
  },
  {
   "cell_type": "markdown",
   "id": "22d212d8",
   "metadata": {},
   "source": [
    "## normal logistic regression"
   ]
  },
  {
   "cell_type": "code",
   "execution_count": 13,
   "id": "4f0474b9",
   "metadata": {},
   "outputs": [
    {
     "data": {
      "text/plain": [
       "LogisticRegression(max_iter=10000)"
      ]
     },
     "execution_count": 13,
     "metadata": {},
     "output_type": "execute_result"
    }
   ],
   "source": [
    "from sklearn.linear_model import LogisticRegression\n",
    "log_reg = LogisticRegression(solver='lbfgs', max_iter=10000)\n",
    "\n",
    "## fit the model\n",
    "log_reg.fit(X_train, y_train)\n",
    "#log_reg.fit(X_train.reshape(-1,1), y_train)"
   ]
  },
  {
   "cell_type": "code",
   "execution_count": 14,
   "id": "06e65937",
   "metadata": {},
   "outputs": [
    {
     "name": "stdout",
     "output_type": "stream",
     "text": [
      "Training Accuracy: 0.482979440512302\n"
     ]
    }
   ],
   "source": [
    "log_reg.predict(X_train)\n",
    "print(\"Training Accuracy:\", accuracy(y_train, log_reg.predict(X_train)))"
   ]
  },
  {
   "cell_type": "code",
   "execution_count": 15,
   "id": "7a344c63",
   "metadata": {},
   "outputs": [
    {
     "name": "stdout",
     "output_type": "stream",
     "text": [
      "Testing Accuracy: 0.4868598382749326\n"
     ]
    }
   ],
   "source": [
    "log_reg.predict(X_test)\n",
    "print(\"Testing Accuracy:\", accuracy(y_test, log_reg.predict(X_test)))"
   ]
  },
  {
   "cell_type": "code",
   "execution_count": 16,
   "id": "076ffd4f",
   "metadata": {},
   "outputs": [
    {
     "data": {
      "text/html": [
       "<div>\n",
       "<style scoped>\n",
       "    .dataframe tbody tr th:only-of-type {\n",
       "        vertical-align: middle;\n",
       "    }\n",
       "\n",
       "    .dataframe tbody tr th {\n",
       "        vertical-align: top;\n",
       "    }\n",
       "\n",
       "    .dataframe thead th {\n",
       "        text-align: right;\n",
       "    }\n",
       "</style>\n",
       "<table border=\"1\" class=\"dataframe\">\n",
       "  <thead>\n",
       "    <tr style=\"text-align: right;\">\n",
       "      <th></th>\n",
       "      <th>Predicted 0</th>\n",
       "      <th>Predicted 1</th>\n",
       "      <th>Predicted 2</th>\n",
       "      <th>Predicted 3</th>\n",
       "    </tr>\n",
       "  </thead>\n",
       "  <tbody>\n",
       "    <tr>\n",
       "      <th>Actual 0</th>\n",
       "      <td>426</td>\n",
       "      <td>6</td>\n",
       "      <td>69</td>\n",
       "      <td>159</td>\n",
       "    </tr>\n",
       "    <tr>\n",
       "      <th>Actual 1</th>\n",
       "      <td>165</td>\n",
       "      <td>62</td>\n",
       "      <td>425</td>\n",
       "      <td>91</td>\n",
       "    </tr>\n",
       "    <tr>\n",
       "      <th>Actual 2</th>\n",
       "      <td>140</td>\n",
       "      <td>60</td>\n",
       "      <td>562</td>\n",
       "      <td>175</td>\n",
       "    </tr>\n",
       "    <tr>\n",
       "      <th>Actual 3</th>\n",
       "      <td>128</td>\n",
       "      <td>2</td>\n",
       "      <td>103</td>\n",
       "      <td>395</td>\n",
       "    </tr>\n",
       "  </tbody>\n",
       "</table>\n",
       "</div>"
      ],
      "text/plain": [
       "          Predicted 0  Predicted 1  Predicted 2  Predicted 3\n",
       "Actual 0          426            6           69          159\n",
       "Actual 1          165           62          425           91\n",
       "Actual 2          140           60          562          175\n",
       "Actual 3          128            2          103          395"
      ]
     },
     "execution_count": 16,
     "metadata": {},
     "output_type": "execute_result"
    }
   ],
   "source": [
    "from sklearn.metrics import confusion_matrix\n",
    "conf_mat = confusion_matrix(y_test, log_reg.predict(X_test))\n",
    "pd.DataFrame(conf_mat,\n",
    "                 columns = ['Predicted 0', 'Predicted 1', 'Predicted 2','Predicted 3'],\n",
    "                 index = ['Actual 0', 'Actual 1', 'Actual 2','Actual 3'])"
   ]
  },
  {
   "cell_type": "markdown",
   "id": "3819d671",
   "metadata": {},
   "source": [
    "## multi-layer in sklearn"
   ]
  },
  {
   "cell_type": "code",
   "execution_count": 17,
   "id": "397ceb02",
   "metadata": {},
   "outputs": [],
   "source": [
    "from sklearn.preprocessing import MinMaxScaler"
   ]
  },
  {
   "cell_type": "code",
   "execution_count": 18,
   "id": "41142da8",
   "metadata": {},
   "outputs": [],
   "source": [
    "scaler=MinMaxScaler()\n",
    "scaler.fit(X_train)\n",
    "X_train=scaler.transform(X_train)\n",
    "X_test=scaler.transform(X_test)"
   ]
  },
  {
   "cell_type": "code",
   "execution_count": 19,
   "id": "52de8d96",
   "metadata": {},
   "outputs": [],
   "source": [
    "from sklearn.neural_network import MLPClassifier"
   ]
  },
  {
   "cell_type": "code",
   "execution_count": 20,
   "id": "ce575784",
   "metadata": {},
   "outputs": [],
   "source": [
    "mlp1 = MLPClassifier(hidden_layer_sizes=(100,100,100,100), max_iter=5000)"
   ]
  },
  {
   "cell_type": "code",
   "execution_count": 21,
   "id": "b3d2d2fd",
   "metadata": {},
   "outputs": [
    {
     "data": {
      "text/plain": [
       "MLPClassifier(hidden_layer_sizes=(100, 100, 100, 100), max_iter=5000)"
      ]
     },
     "execution_count": 21,
     "metadata": {},
     "output_type": "execute_result"
    }
   ],
   "source": [
    "mlp1.fit(X_train, y_train)"
   ]
  },
  {
   "cell_type": "code",
   "execution_count": 22,
   "id": "086a2ed3",
   "metadata": {},
   "outputs": [
    {
     "name": "stdout",
     "output_type": "stream",
     "text": [
      "Training Accuracy: 0.9477586788001349\n",
      "Testing Accuracy: 0.7328167115902965\n"
     ]
    }
   ],
   "source": [
    "def accuracy(true, predicted):\n",
    "    return np.sum(true==predicted)/len(predicted)\n",
    "print(\"Training Accuracy:\", accuracy(y_train, mlp1.predict(X_train)))\n",
    "print(\"Testing Accuracy:\", accuracy(y_test, mlp1.predict(X_test)))"
   ]
  },
  {
   "cell_type": "code",
   "execution_count": 23,
   "id": "f959929d",
   "metadata": {},
   "outputs": [
    {
     "data": {
      "text/plain": [
       "array([0, 3, 1, ..., 3, 3, 3], dtype=int64)"
      ]
     },
     "execution_count": 23,
     "metadata": {},
     "output_type": "execute_result"
    }
   ],
   "source": [
    "mlp1.predict(X_train)"
   ]
  },
  {
   "cell_type": "code",
   "execution_count": 24,
   "id": "d8ff917b",
   "metadata": {},
   "outputs": [
    {
     "data": {
      "text/html": [
       "<div>\n",
       "<style scoped>\n",
       "    .dataframe tbody tr th:only-of-type {\n",
       "        vertical-align: middle;\n",
       "    }\n",
       "\n",
       "    .dataframe tbody tr th {\n",
       "        vertical-align: top;\n",
       "    }\n",
       "\n",
       "    .dataframe thead th {\n",
       "        text-align: right;\n",
       "    }\n",
       "</style>\n",
       "<table border=\"1\" class=\"dataframe\">\n",
       "  <thead>\n",
       "    <tr style=\"text-align: right;\">\n",
       "      <th></th>\n",
       "      <th>Predicted 0</th>\n",
       "      <th>Predicted 1</th>\n",
       "      <th>Predicted 2</th>\n",
       "      <th>Predicted 3</th>\n",
       "    </tr>\n",
       "  </thead>\n",
       "  <tbody>\n",
       "    <tr>\n",
       "      <th>Actual 0</th>\n",
       "      <td>2493</td>\n",
       "      <td>32</td>\n",
       "      <td>68</td>\n",
       "      <td>44</td>\n",
       "    </tr>\n",
       "    <tr>\n",
       "      <th>Actual 1</th>\n",
       "      <td>33</td>\n",
       "      <td>2829</td>\n",
       "      <td>53</td>\n",
       "      <td>57</td>\n",
       "    </tr>\n",
       "    <tr>\n",
       "      <th>Actual 2</th>\n",
       "      <td>74</td>\n",
       "      <td>68</td>\n",
       "      <td>3523</td>\n",
       "      <td>82</td>\n",
       "    </tr>\n",
       "    <tr>\n",
       "      <th>Actual 3</th>\n",
       "      <td>20</td>\n",
       "      <td>49</td>\n",
       "      <td>40</td>\n",
       "      <td>2403</td>\n",
       "    </tr>\n",
       "  </tbody>\n",
       "</table>\n",
       "</div>"
      ],
      "text/plain": [
       "          Predicted 0  Predicted 1  Predicted 2  Predicted 3\n",
       "Actual 0         2493           32           68           44\n",
       "Actual 1           33         2829           53           57\n",
       "Actual 2           74           68         3523           82\n",
       "Actual 3           20           49           40         2403"
      ]
     },
     "execution_count": 24,
     "metadata": {},
     "output_type": "execute_result"
    }
   ],
   "source": [
    "from sklearn.metrics import confusion_matrix\n",
    "conf_mat = confusion_matrix(y_train, mlp1.predict(X_train))\n",
    "pd.DataFrame(conf_mat,\n",
    "                 columns = ['Predicted 0', 'Predicted 1', 'Predicted 2','Predicted 3'],\n",
    "                 index = ['Actual 0', 'Actual 1', 'Actual 2','Actual 3'])"
   ]
  },
  {
   "cell_type": "code",
   "execution_count": 25,
   "id": "1d6a26b2",
   "metadata": {},
   "outputs": [
    {
     "data": {
      "text/html": [
       "<div>\n",
       "<style scoped>\n",
       "    .dataframe tbody tr th:only-of-type {\n",
       "        vertical-align: middle;\n",
       "    }\n",
       "\n",
       "    .dataframe tbody tr th {\n",
       "        vertical-align: top;\n",
       "    }\n",
       "\n",
       "    .dataframe thead th {\n",
       "        text-align: right;\n",
       "    }\n",
       "</style>\n",
       "<table border=\"1\" class=\"dataframe\">\n",
       "  <thead>\n",
       "    <tr style=\"text-align: right;\">\n",
       "      <th></th>\n",
       "      <th>Predicted 0</th>\n",
       "      <th>Predicted 1</th>\n",
       "      <th>Predicted 2</th>\n",
       "      <th>Predicted 3</th>\n",
       "    </tr>\n",
       "  </thead>\n",
       "  <tbody>\n",
       "    <tr>\n",
       "      <th>Actual 0</th>\n",
       "      <td>458</td>\n",
       "      <td>56</td>\n",
       "      <td>80</td>\n",
       "      <td>66</td>\n",
       "    </tr>\n",
       "    <tr>\n",
       "      <th>Actual 1</th>\n",
       "      <td>49</td>\n",
       "      <td>553</td>\n",
       "      <td>87</td>\n",
       "      <td>54</td>\n",
       "    </tr>\n",
       "    <tr>\n",
       "      <th>Actual 2</th>\n",
       "      <td>70</td>\n",
       "      <td>87</td>\n",
       "      <td>705</td>\n",
       "      <td>75</td>\n",
       "    </tr>\n",
       "    <tr>\n",
       "      <th>Actual 3</th>\n",
       "      <td>57</td>\n",
       "      <td>48</td>\n",
       "      <td>64</td>\n",
       "      <td>459</td>\n",
       "    </tr>\n",
       "  </tbody>\n",
       "</table>\n",
       "</div>"
      ],
      "text/plain": [
       "          Predicted 0  Predicted 1  Predicted 2  Predicted 3\n",
       "Actual 0          458           56           80           66\n",
       "Actual 1           49          553           87           54\n",
       "Actual 2           70           87          705           75\n",
       "Actual 3           57           48           64          459"
      ]
     },
     "execution_count": 25,
     "metadata": {},
     "output_type": "execute_result"
    }
   ],
   "source": [
    "from sklearn.metrics import confusion_matrix\n",
    "conf_mat = confusion_matrix(y_test, mlp1.predict(X_test))\n",
    "pd.DataFrame(conf_mat,\n",
    "                 columns = ['Predicted 0', 'Predicted 1', 'Predicted 2','Predicted 3'],\n",
    "                 index = ['Actual 0', 'Actual 1', 'Actual 2','Actual 3'])"
   ]
  },
  {
   "cell_type": "code",
   "execution_count": null,
   "id": "d501022f",
   "metadata": {},
   "outputs": [],
   "source": []
  },
  {
   "cell_type": "code",
   "execution_count": null,
   "id": "0a60357c",
   "metadata": {},
   "outputs": [],
   "source": []
  }
 ],
 "metadata": {
  "kernelspec": {
   "display_name": "Python 3 (ipykernel)",
   "language": "python",
   "name": "python3"
  },
  "language_info": {
   "codemirror_mode": {
    "name": "ipython",
    "version": 3
   },
   "file_extension": ".py",
   "mimetype": "text/x-python",
   "name": "python",
   "nbconvert_exporter": "python",
   "pygments_lexer": "ipython3",
   "version": "3.9.12"
  }
 },
 "nbformat": 4,
 "nbformat_minor": 5
}
