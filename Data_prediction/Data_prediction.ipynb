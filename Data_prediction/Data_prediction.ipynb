{
 "cells": [
  {
   "cell_type": "code",
   "execution_count": 2,
   "id": "393d4a5b",
   "metadata": {},
   "outputs": [],
   "source": [
    "import logging as logger\n",
    "import os\n",
    "import shutil\n",
    "import tarfile\n",
    "from csv import reader\n",
    "import logging as logger\n",
    "import os\n",
    "import shutil\n",
    "import tarfile\n",
    "from csv import reader\n",
    "\n",
    "import cv2\n",
    "import pandas as pd\n",
    "import seaborn as sns"
   ]
  },
  {
   "cell_type": "code",
   "execution_count": 3,
   "id": "946cab09",
   "metadata": {},
   "outputs": [],
   "source": [
    "## For data handling\n",
    "import pandas as pd\n",
    "import numpy as np\n",
    "\n",
    "## For plotting\n",
    "import matplotlib.pyplot as plt\n",
    "from seaborn import set_style\n",
    "\n",
    "## This sets the plot style\n",
    "## to have a grid on a dark background\n",
    "set_style(\"whitegrid\")"
   ]
  },
  {
   "cell_type": "code",
   "execution_count": 4,
   "id": "28fd7391",
   "metadata": {},
   "outputs": [],
   "source": [
    "from usefun import findangamp,findang\n",
    "from usefun import mostvalue, possibleaction,findpacman\n",
    "from usefun import pickaction\n",
    "from usefun import accuracy"
   ]
  },
  {
   "cell_type": "markdown",
   "id": "ecdfc068",
   "metadata": {},
   "source": [
    "# Data training and predictions"
   ]
  },
  {
   "cell_type": "code",
   "execution_count": 5,
   "id": "2aacf591",
   "metadata": {},
   "outputs": [
    {
     "data": {
      "text/html": [
       "<div>\n",
       "<style scoped>\n",
       "    .dataframe tbody tr th:only-of-type {\n",
       "        vertical-align: middle;\n",
       "    }\n",
       "\n",
       "    .dataframe tbody tr th {\n",
       "        vertical-align: top;\n",
       "    }\n",
       "\n",
       "    .dataframe thead th {\n",
       "        text-align: right;\n",
       "    }\n",
       "</style>\n",
       "<table border=\"1\" class=\"dataframe\">\n",
       "  <thead>\n",
       "    <tr style=\"text-align: right;\">\n",
       "      <th></th>\n",
       "      <th>frame_id</th>\n",
       "      <th>action</th>\n",
       "      <th>gaze_variance0</th>\n",
       "      <th>gaze_variance1</th>\n",
       "      <th>mean_angle</th>\n",
       "      <th>mean_amplitude</th>\n",
       "      <th>start_angle</th>\n",
       "      <th>start_amplitude</th>\n",
       "      <th>end_angle</th>\n",
       "      <th>end_amplitude</th>\n",
       "      <th>com_angle0</th>\n",
       "      <th>com_angle1</th>\n",
       "      <th>0</th>\n",
       "      <th>1</th>\n",
       "      <th>2</th>\n",
       "      <th>3</th>\n",
       "    </tr>\n",
       "  </thead>\n",
       "  <tbody>\n",
       "    <tr>\n",
       "      <th>0</th>\n",
       "      <td>RZ_5037271_4</td>\n",
       "      <td>0</td>\n",
       "      <td>0.035883</td>\n",
       "      <td>0.003952</td>\n",
       "      <td>-107.945729</td>\n",
       "      <td>13.799091</td>\n",
       "      <td>-107.185325</td>\n",
       "      <td>14.126018</td>\n",
       "      <td>-108.034756</td>\n",
       "      <td>13.771982</td>\n",
       "      <td>-72.986692</td>\n",
       "      <td>-162.986692</td>\n",
       "      <td>1</td>\n",
       "      <td>0</td>\n",
       "      <td>1</td>\n",
       "      <td>1</td>\n",
       "    </tr>\n",
       "    <tr>\n",
       "      <th>1</th>\n",
       "      <td>RZ_5037271_5</td>\n",
       "      <td>0</td>\n",
       "      <td>0.029144</td>\n",
       "      <td>0.004015</td>\n",
       "      <td>-108.305842</td>\n",
       "      <td>13.905737</td>\n",
       "      <td>-108.019981</td>\n",
       "      <td>13.718247</td>\n",
       "      <td>-108.533426</td>\n",
       "      <td>13.948754</td>\n",
       "      <td>-97.508199</td>\n",
       "      <td>-7.508199</td>\n",
       "      <td>1</td>\n",
       "      <td>0</td>\n",
       "      <td>1</td>\n",
       "      <td>1</td>\n",
       "    </tr>\n",
       "    <tr>\n",
       "      <th>2</th>\n",
       "      <td>RZ_5037271_6</td>\n",
       "      <td>0</td>\n",
       "      <td>0.070980</td>\n",
       "      <td>0.008503</td>\n",
       "      <td>-113.643011</td>\n",
       "      <td>11.329768</td>\n",
       "      <td>-112.825956</td>\n",
       "      <td>11.381482</td>\n",
       "      <td>-114.635915</td>\n",
       "      <td>11.287626</td>\n",
       "      <td>97.549158</td>\n",
       "      <td>7.549158</td>\n",
       "      <td>1</td>\n",
       "      <td>1</td>\n",
       "      <td>1</td>\n",
       "      <td>1</td>\n",
       "    </tr>\n",
       "    <tr>\n",
       "      <th>3</th>\n",
       "      <td>RZ_5037271_7</td>\n",
       "      <td>0</td>\n",
       "      <td>0.047391</td>\n",
       "      <td>0.008704</td>\n",
       "      <td>-112.911807</td>\n",
       "      <td>11.766484</td>\n",
       "      <td>-114.404793</td>\n",
       "      <td>11.266875</td>\n",
       "      <td>-112.830973</td>\n",
       "      <td>11.946105</td>\n",
       "      <td>95.946701</td>\n",
       "      <td>-174.053299</td>\n",
       "      <td>1</td>\n",
       "      <td>1</td>\n",
       "      <td>1</td>\n",
       "      <td>1</td>\n",
       "    </tr>\n",
       "    <tr>\n",
       "      <th>4</th>\n",
       "      <td>RZ_5037271_8</td>\n",
       "      <td>0</td>\n",
       "      <td>0.054097</td>\n",
       "      <td>0.008667</td>\n",
       "      <td>-118.595054</td>\n",
       "      <td>9.801289</td>\n",
       "      <td>-117.223417</td>\n",
       "      <td>10.132558</td>\n",
       "      <td>-118.731446</td>\n",
       "      <td>9.705029</td>\n",
       "      <td>-83.923473</td>\n",
       "      <td>-173.923473</td>\n",
       "      <td>1</td>\n",
       "      <td>1</td>\n",
       "      <td>1</td>\n",
       "      <td>1</td>\n",
       "    </tr>\n",
       "    <tr>\n",
       "      <th>...</th>\n",
       "      <td>...</td>\n",
       "      <td>...</td>\n",
       "      <td>...</td>\n",
       "      <td>...</td>\n",
       "      <td>...</td>\n",
       "      <td>...</td>\n",
       "      <td>...</td>\n",
       "      <td>...</td>\n",
       "      <td>...</td>\n",
       "      <td>...</td>\n",
       "      <td>...</td>\n",
       "      <td>...</td>\n",
       "      <td>...</td>\n",
       "      <td>...</td>\n",
       "      <td>...</td>\n",
       "      <td>...</td>\n",
       "    </tr>\n",
       "    <tr>\n",
       "      <th>14831</th>\n",
       "      <td>RZ_5037271_17306</td>\n",
       "      <td>2</td>\n",
       "      <td>1.469895</td>\n",
       "      <td>0.012684</td>\n",
       "      <td>114.338379</td>\n",
       "      <td>170.906662</td>\n",
       "      <td>114.227716</td>\n",
       "      <td>173.210204</td>\n",
       "      <td>114.409012</td>\n",
       "      <td>169.460775</td>\n",
       "      <td>107.107439</td>\n",
       "      <td>17.107439</td>\n",
       "      <td>0</td>\n",
       "      <td>1</td>\n",
       "      <td>1</td>\n",
       "      <td>0</td>\n",
       "    </tr>\n",
       "    <tr>\n",
       "      <th>14832</th>\n",
       "      <td>RZ_5037271_17307</td>\n",
       "      <td>2</td>\n",
       "      <td>0.355787</td>\n",
       "      <td>0.007117</td>\n",
       "      <td>114.535687</td>\n",
       "      <td>168.796607</td>\n",
       "      <td>114.426354</td>\n",
       "      <td>169.396198</td>\n",
       "      <td>114.754752</td>\n",
       "      <td>167.693789</td>\n",
       "      <td>-90.909502</td>\n",
       "      <td>179.090498</td>\n",
       "      <td>0</td>\n",
       "      <td>1</td>\n",
       "      <td>1</td>\n",
       "      <td>0</td>\n",
       "    </tr>\n",
       "    <tr>\n",
       "      <th>14833</th>\n",
       "      <td>RZ_5037271_17308</td>\n",
       "      <td>2</td>\n",
       "      <td>121.790149</td>\n",
       "      <td>0.890204</td>\n",
       "      <td>111.307934</td>\n",
       "      <td>194.162089</td>\n",
       "      <td>114.669279</td>\n",
       "      <td>168.382020</td>\n",
       "      <td>110.389077</td>\n",
       "      <td>199.140620</td>\n",
       "      <td>-91.365272</td>\n",
       "      <td>178.634728</td>\n",
       "      <td>0</td>\n",
       "      <td>1</td>\n",
       "      <td>1</td>\n",
       "      <td>0</td>\n",
       "    </tr>\n",
       "    <tr>\n",
       "      <th>14834</th>\n",
       "      <td>RZ_5037271_17309</td>\n",
       "      <td>2</td>\n",
       "      <td>0.362737</td>\n",
       "      <td>0.011814</td>\n",
       "      <td>110.525212</td>\n",
       "      <td>198.067893</td>\n",
       "      <td>110.404123</td>\n",
       "      <td>199.000024</td>\n",
       "      <td>110.641052</td>\n",
       "      <td>197.352773</td>\n",
       "      <td>84.028416</td>\n",
       "      <td>-5.971584</td>\n",
       "      <td>0</td>\n",
       "      <td>1</td>\n",
       "      <td>1</td>\n",
       "      <td>0</td>\n",
       "    </tr>\n",
       "    <tr>\n",
       "      <th>14835</th>\n",
       "      <td>RZ_5037271_17310</td>\n",
       "      <td>2</td>\n",
       "      <td>0.035195</td>\n",
       "      <td>0.004730</td>\n",
       "      <td>110.777787</td>\n",
       "      <td>197.703614</td>\n",
       "      <td>110.788055</td>\n",
       "      <td>197.665505</td>\n",
       "      <td>110.785246</td>\n",
       "      <td>197.747395</td>\n",
       "      <td>84.943161</td>\n",
       "      <td>-5.056839</td>\n",
       "      <td>0</td>\n",
       "      <td>1</td>\n",
       "      <td>1</td>\n",
       "      <td>0</td>\n",
       "    </tr>\n",
       "  </tbody>\n",
       "</table>\n",
       "<p>14836 rows × 16 columns</p>\n",
       "</div>"
      ],
      "text/plain": [
       "               frame_id  action  gaze_variance0  gaze_variance1  mean_angle  \\\n",
       "0          RZ_5037271_4       0        0.035883        0.003952 -107.945729   \n",
       "1          RZ_5037271_5       0        0.029144        0.004015 -108.305842   \n",
       "2          RZ_5037271_6       0        0.070980        0.008503 -113.643011   \n",
       "3          RZ_5037271_7       0        0.047391        0.008704 -112.911807   \n",
       "4          RZ_5037271_8       0        0.054097        0.008667 -118.595054   \n",
       "...                 ...     ...             ...             ...         ...   \n",
       "14831  RZ_5037271_17306       2        1.469895        0.012684  114.338379   \n",
       "14832  RZ_5037271_17307       2        0.355787        0.007117  114.535687   \n",
       "14833  RZ_5037271_17308       2      121.790149        0.890204  111.307934   \n",
       "14834  RZ_5037271_17309       2        0.362737        0.011814  110.525212   \n",
       "14835  RZ_5037271_17310       2        0.035195        0.004730  110.777787   \n",
       "\n",
       "       mean_amplitude  start_angle  start_amplitude   end_angle  \\\n",
       "0           13.799091  -107.185325        14.126018 -108.034756   \n",
       "1           13.905737  -108.019981        13.718247 -108.533426   \n",
       "2           11.329768  -112.825956        11.381482 -114.635915   \n",
       "3           11.766484  -114.404793        11.266875 -112.830973   \n",
       "4            9.801289  -117.223417        10.132558 -118.731446   \n",
       "...               ...          ...              ...         ...   \n",
       "14831      170.906662   114.227716       173.210204  114.409012   \n",
       "14832      168.796607   114.426354       169.396198  114.754752   \n",
       "14833      194.162089   114.669279       168.382020  110.389077   \n",
       "14834      198.067893   110.404123       199.000024  110.641052   \n",
       "14835      197.703614   110.788055       197.665505  110.785246   \n",
       "\n",
       "       end_amplitude  com_angle0  com_angle1  0  1  2  3  \n",
       "0          13.771982  -72.986692 -162.986692  1  0  1  1  \n",
       "1          13.948754  -97.508199   -7.508199  1  0  1  1  \n",
       "2          11.287626   97.549158    7.549158  1  1  1  1  \n",
       "3          11.946105   95.946701 -174.053299  1  1  1  1  \n",
       "4           9.705029  -83.923473 -173.923473  1  1  1  1  \n",
       "...              ...         ...         ... .. .. .. ..  \n",
       "14831     169.460775  107.107439   17.107439  0  1  1  0  \n",
       "14832     167.693789  -90.909502  179.090498  0  1  1  0  \n",
       "14833     199.140620  -91.365272  178.634728  0  1  1  0  \n",
       "14834     197.352773   84.028416   -5.971584  0  1  1  0  \n",
       "14835     197.747395   84.943161   -5.056839  0  1  1  0  \n",
       "\n",
       "[14836 rows x 16 columns]"
      ]
     },
     "execution_count": 5,
     "metadata": {},
     "output_type": "execute_result"
    }
   ],
   "source": [
    "finaldf=pd.read_csv('finaldf.csv')\n",
    "finaldf"
   ]
  },
  {
   "cell_type": "markdown",
   "id": "1cb61a1f",
   "metadata": {},
   "source": [
    "## train_test_split"
   ]
  },
  {
   "cell_type": "code",
   "execution_count": 7,
   "id": "68998371",
   "metadata": {},
   "outputs": [],
   "source": [
    "X = finaldf.drop(['action'],axis=1).copy()\n",
    "y = finaldf['action']\n",
    "from sklearn.model_selection import train_test_split\n",
    "X_train, X_test, y_train, y_test = train_test_split(X, y,\n",
    "                                                       shuffle=True,\n",
    "                                                       random_state=435,\n",
    "                                                       test_size=.2,\n",
    "                                                       stratify=y)"
   ]
  },
  {
   "cell_type": "code",
   "execution_count": 14,
   "id": "dabce66b",
   "metadata": {},
   "outputs": [],
   "source": [
    "test_data=pd.concat([X_test,y_test],axis=1)\n",
    "test_data.to_csv('test_data.csv',index=False)"
   ]
  },
  {
   "cell_type": "code",
   "execution_count": 15,
   "id": "d673b99e",
   "metadata": {},
   "outputs": [],
   "source": [
    "X_train=X_train.drop(['frame_id'],axis=1).copy().values\n",
    "X_test=X_test.drop(['frame_id'],axis=1).copy().values\n",
    "y_train=y_train.values\n",
    "y_test=y_test.values"
   ]
  },
  {
   "cell_type": "markdown",
   "id": "22d212d8",
   "metadata": {},
   "source": [
    "## normal logistic regression"
   ]
  },
  {
   "cell_type": "code",
   "execution_count": 20,
   "id": "4f0474b9",
   "metadata": {},
   "outputs": [
    {
     "data": {
      "text/plain": [
       "LogisticRegression(max_iter=10000)"
      ]
     },
     "execution_count": 20,
     "metadata": {},
     "output_type": "execute_result"
    }
   ],
   "source": [
    "from sklearn.linear_model import LogisticRegression\n",
    "log_reg = LogisticRegression(solver='lbfgs', max_iter=10000)\n",
    "\n",
    "## fit the model\n",
    "log_reg.fit(X_train, y_train)\n",
    "#log_reg.fit(X_train.reshape(-1,1), y_train)"
   ]
  },
  {
   "cell_type": "code",
   "execution_count": 21,
   "id": "06e65937",
   "metadata": {},
   "outputs": [
    {
     "name": "stdout",
     "output_type": "stream",
     "text": [
      "Training Accuracy: 0.47455342096393666\n"
     ]
    }
   ],
   "source": [
    "log_reg.predict(X_train)\n",
    "print(\"Training Accuracy:\", accuracy(y_train, log_reg.predict(X_train)))"
   ]
  },
  {
   "cell_type": "code",
   "execution_count": 22,
   "id": "7a344c63",
   "metadata": {},
   "outputs": [
    {
     "name": "stdout",
     "output_type": "stream",
     "text": [
      "Training Accuracy: 0.4754043126684636\n"
     ]
    }
   ],
   "source": [
    "log_reg.predict(X_test)\n",
    "print(\"Testing Accuracy:\", accuracy(y_test, log_reg.predict(X_test)))"
   ]
  },
  {
   "cell_type": "code",
   "execution_count": 23,
   "id": "076ffd4f",
   "metadata": {},
   "outputs": [
    {
     "data": {
      "text/html": [
       "<div>\n",
       "<style scoped>\n",
       "    .dataframe tbody tr th:only-of-type {\n",
       "        vertical-align: middle;\n",
       "    }\n",
       "\n",
       "    .dataframe tbody tr th {\n",
       "        vertical-align: top;\n",
       "    }\n",
       "\n",
       "    .dataframe thead th {\n",
       "        text-align: right;\n",
       "    }\n",
       "</style>\n",
       "<table border=\"1\" class=\"dataframe\">\n",
       "  <thead>\n",
       "    <tr style=\"text-align: right;\">\n",
       "      <th></th>\n",
       "      <th>Predicted 0</th>\n",
       "      <th>Predicted 1</th>\n",
       "      <th>Predicted 2</th>\n",
       "      <th>Predicted 3</th>\n",
       "    </tr>\n",
       "  </thead>\n",
       "  <tbody>\n",
       "    <tr>\n",
       "      <th>Actual 0</th>\n",
       "      <td>406</td>\n",
       "      <td>7</td>\n",
       "      <td>71</td>\n",
       "      <td>176</td>\n",
       "    </tr>\n",
       "    <tr>\n",
       "      <th>Actual 1</th>\n",
       "      <td>166</td>\n",
       "      <td>60</td>\n",
       "      <td>406</td>\n",
       "      <td>111</td>\n",
       "    </tr>\n",
       "    <tr>\n",
       "      <th>Actual 2</th>\n",
       "      <td>145</td>\n",
       "      <td>83</td>\n",
       "      <td>535</td>\n",
       "      <td>174</td>\n",
       "    </tr>\n",
       "    <tr>\n",
       "      <th>Actual 3</th>\n",
       "      <td>126</td>\n",
       "      <td>3</td>\n",
       "      <td>89</td>\n",
       "      <td>410</td>\n",
       "    </tr>\n",
       "  </tbody>\n",
       "</table>\n",
       "</div>"
      ],
      "text/plain": [
       "          Predicted 0  Predicted 1  Predicted 2  Predicted 3\n",
       "Actual 0          406            7           71          176\n",
       "Actual 1          166           60          406          111\n",
       "Actual 2          145           83          535          174\n",
       "Actual 3          126            3           89          410"
      ]
     },
     "execution_count": 23,
     "metadata": {},
     "output_type": "execute_result"
    }
   ],
   "source": [
    "from sklearn.metrics import confusion_matrix\n",
    "conf_mat = confusion_matrix(y_test, log_reg.predict(X_test))\n",
    "pd.DataFrame(conf_mat,\n",
    "                 columns = ['Predicted 0', 'Predicted 1', 'Predicted 2','Predicted 3'],\n",
    "                 index = ['Actual 0', 'Actual 1', 'Actual 2','Actual 3'])"
   ]
  },
  {
   "cell_type": "markdown",
   "id": "3819d671",
   "metadata": {},
   "source": [
    "## multi-layer in sklearn"
   ]
  },
  {
   "cell_type": "code",
   "execution_count": 24,
   "id": "397ceb02",
   "metadata": {},
   "outputs": [],
   "source": [
    "from sklearn.preprocessing import MinMaxScaler"
   ]
  },
  {
   "cell_type": "code",
   "execution_count": 25,
   "id": "41142da8",
   "metadata": {},
   "outputs": [],
   "source": [
    "scaler=MinMaxScaler()\n",
    "scaler.fit(X_train)\n",
    "X_train=scaler.transform(X_train)\n",
    "X_test=scaler.transform(X_test)"
   ]
  },
  {
   "cell_type": "code",
   "execution_count": 26,
   "id": "52de8d96",
   "metadata": {},
   "outputs": [],
   "source": [
    "from sklearn.neural_network import MLPClassifier"
   ]
  },
  {
   "cell_type": "code",
   "execution_count": 27,
   "id": "ce575784",
   "metadata": {},
   "outputs": [],
   "source": [
    "mlp1 = MLPClassifier(hidden_layer_sizes=(100,100,100,100), max_iter=5000)"
   ]
  },
  {
   "cell_type": "code",
   "execution_count": 28,
   "id": "b3d2d2fd",
   "metadata": {},
   "outputs": [
    {
     "data": {
      "text/plain": [
       "MLPClassifier(hidden_layer_sizes=(100, 100, 100, 100), max_iter=5000)"
      ]
     },
     "execution_count": 28,
     "metadata": {},
     "output_type": "execute_result"
    }
   ],
   "source": [
    "mlp1.fit(X_train, y_train)"
   ]
  },
  {
   "cell_type": "code",
   "execution_count": 29,
   "id": "086a2ed3",
   "metadata": {},
   "outputs": [
    {
     "name": "stdout",
     "output_type": "stream",
     "text": [
      "Training Accuracy: 0.7789855072463768\n",
      "Testing Accuracy: 0.6061320754716981\n"
     ]
    }
   ],
   "source": [
    "def accuracy(true, predicted):\n",
    "    return np.sum(true==predicted)/len(predicted)\n",
    "print(\"Training Accuracy:\", accuracy(y_train, mlp1.predict(X_train)))\n",
    "print(\"Testing Accuracy:\", accuracy(y_test, mlp1.predict(X_test)))"
   ]
  },
  {
   "cell_type": "code",
   "execution_count": 30,
   "id": "f959929d",
   "metadata": {},
   "outputs": [
    {
     "data": {
      "text/plain": [
       "array([0, 3, 1, ..., 3, 3, 0], dtype=int64)"
      ]
     },
     "execution_count": 30,
     "metadata": {},
     "output_type": "execute_result"
    }
   ],
   "source": [
    "mlp1.predict(X_train)"
   ]
  },
  {
   "cell_type": "code",
   "execution_count": 31,
   "id": "d8ff917b",
   "metadata": {},
   "outputs": [
    {
     "data": {
      "text/html": [
       "<div>\n",
       "<style scoped>\n",
       "    .dataframe tbody tr th:only-of-type {\n",
       "        vertical-align: middle;\n",
       "    }\n",
       "\n",
       "    .dataframe tbody tr th {\n",
       "        vertical-align: top;\n",
       "    }\n",
       "\n",
       "    .dataframe thead th {\n",
       "        text-align: right;\n",
       "    }\n",
       "</style>\n",
       "<table border=\"1\" class=\"dataframe\">\n",
       "  <thead>\n",
       "    <tr style=\"text-align: right;\">\n",
       "      <th></th>\n",
       "      <th>Predicted 0</th>\n",
       "      <th>Predicted 1</th>\n",
       "      <th>Predicted 2</th>\n",
       "      <th>Predicted 3</th>\n",
       "    </tr>\n",
       "  </thead>\n",
       "  <tbody>\n",
       "    <tr>\n",
       "      <th>Actual 0</th>\n",
       "      <td>2175</td>\n",
       "      <td>209</td>\n",
       "      <td>118</td>\n",
       "      <td>135</td>\n",
       "    </tr>\n",
       "    <tr>\n",
       "      <th>Actual 1</th>\n",
       "      <td>131</td>\n",
       "      <td>2336</td>\n",
       "      <td>325</td>\n",
       "      <td>180</td>\n",
       "    </tr>\n",
       "    <tr>\n",
       "      <th>Actual 2</th>\n",
       "      <td>312</td>\n",
       "      <td>342</td>\n",
       "      <td>2907</td>\n",
       "      <td>186</td>\n",
       "    </tr>\n",
       "    <tr>\n",
       "      <th>Actual 3</th>\n",
       "      <td>317</td>\n",
       "      <td>222</td>\n",
       "      <td>146</td>\n",
       "      <td>1827</td>\n",
       "    </tr>\n",
       "  </tbody>\n",
       "</table>\n",
       "</div>"
      ],
      "text/plain": [
       "          Predicted 0  Predicted 1  Predicted 2  Predicted 3\n",
       "Actual 0         2175          209          118          135\n",
       "Actual 1          131         2336          325          180\n",
       "Actual 2          312          342         2907          186\n",
       "Actual 3          317          222          146         1827"
      ]
     },
     "execution_count": 31,
     "metadata": {},
     "output_type": "execute_result"
    }
   ],
   "source": [
    "from sklearn.metrics import confusion_matrix\n",
    "conf_mat = confusion_matrix(y_train, mlp1.predict(X_train))\n",
    "pd.DataFrame(conf_mat,\n",
    "                 columns = ['Predicted 0', 'Predicted 1', 'Predicted 2','Predicted 3'],\n",
    "                 index = ['Actual 0', 'Actual 1', 'Actual 2','Actual 3'])"
   ]
  },
  {
   "cell_type": "code",
   "execution_count": 32,
   "id": "1d6a26b2",
   "metadata": {},
   "outputs": [
    {
     "data": {
      "text/html": [
       "<div>\n",
       "<style scoped>\n",
       "    .dataframe tbody tr th:only-of-type {\n",
       "        vertical-align: middle;\n",
       "    }\n",
       "\n",
       "    .dataframe tbody tr th {\n",
       "        vertical-align: top;\n",
       "    }\n",
       "\n",
       "    .dataframe thead th {\n",
       "        text-align: right;\n",
       "    }\n",
       "</style>\n",
       "<table border=\"1\" class=\"dataframe\">\n",
       "  <thead>\n",
       "    <tr style=\"text-align: right;\">\n",
       "      <th></th>\n",
       "      <th>Predicted 0</th>\n",
       "      <th>Predicted 1</th>\n",
       "      <th>Predicted 2</th>\n",
       "      <th>Predicted 3</th>\n",
       "    </tr>\n",
       "  </thead>\n",
       "  <tbody>\n",
       "    <tr>\n",
       "      <th>Actual 0</th>\n",
       "      <td>423</td>\n",
       "      <td>85</td>\n",
       "      <td>76</td>\n",
       "      <td>76</td>\n",
       "    </tr>\n",
       "    <tr>\n",
       "      <th>Actual 1</th>\n",
       "      <td>73</td>\n",
       "      <td>437</td>\n",
       "      <td>168</td>\n",
       "      <td>65</td>\n",
       "    </tr>\n",
       "    <tr>\n",
       "      <th>Actual 2</th>\n",
       "      <td>111</td>\n",
       "      <td>157</td>\n",
       "      <td>594</td>\n",
       "      <td>75</td>\n",
       "    </tr>\n",
       "    <tr>\n",
       "      <th>Actual 3</th>\n",
       "      <td>132</td>\n",
       "      <td>81</td>\n",
       "      <td>70</td>\n",
       "      <td>345</td>\n",
       "    </tr>\n",
       "  </tbody>\n",
       "</table>\n",
       "</div>"
      ],
      "text/plain": [
       "          Predicted 0  Predicted 1  Predicted 2  Predicted 3\n",
       "Actual 0          423           85           76           76\n",
       "Actual 1           73          437          168           65\n",
       "Actual 2          111          157          594           75\n",
       "Actual 3          132           81           70          345"
      ]
     },
     "execution_count": 32,
     "metadata": {},
     "output_type": "execute_result"
    }
   ],
   "source": [
    "from sklearn.metrics import confusion_matrix\n",
    "conf_mat = confusion_matrix(y_test, mlp1.predict(X_test))\n",
    "pd.DataFrame(conf_mat,\n",
    "                 columns = ['Predicted 0', 'Predicted 1', 'Predicted 2','Predicted 3'],\n",
    "                 index = ['Actual 0', 'Actual 1', 'Actual 2','Actual 3'])"
   ]
  },
  {
   "cell_type": "markdown",
   "id": "91fffb95",
   "metadata": {},
   "source": [
    "## multilayer using keras"
   ]
  },
  {
   "cell_type": "code",
   "execution_count": 33,
   "id": "59f5f1e7",
   "metadata": {},
   "outputs": [],
   "source": [
    "import keras"
   ]
  },
  {
   "cell_type": "code",
   "execution_count": 34,
   "id": "a759ec2c",
   "metadata": {},
   "outputs": [],
   "source": [
    "from keras import models\n",
    "from keras import layers\n",
    "from keras import optimizers\n",
    "from keras import losses\n",
    "from keras import metrics\n",
    "from keras.utils.np_utils import to_categorical"
   ]
  },
  {
   "cell_type": "code",
   "execution_count": 35,
   "id": "cdc3b517",
   "metadata": {},
   "outputs": [],
   "source": [
    "md = models.Sequential()"
   ]
  },
  {
   "cell_type": "code",
   "execution_count": 36,
   "id": "cd1a9b29",
   "metadata": {},
   "outputs": [],
   "source": [
    "md.add(layers.Dense(14, activation = 'relu',input_shape=(14,)))\n",
    "md.add(layers.Dense(100, activation = 'relu'))\n",
    "md.add(layers.Dense(100, activation = 'relu'))\n",
    "md.add(layers.Dense(100, activation = 'relu'))\n",
    "md.add(layers.Dense(4, activation = 'softmax'))"
   ]
  },
  {
   "cell_type": "code",
   "execution_count": 37,
   "id": "69a45e96",
   "metadata": {},
   "outputs": [
    {
     "name": "stdout",
     "output_type": "stream",
     "text": [
      "Model: \"sequential\"\n",
      "_________________________________________________________________\n",
      " Layer (type)                Output Shape              Param #   \n",
      "=================================================================\n",
      " dense (Dense)               (None, 14)                210       \n",
      "                                                                 \n",
      " dense_1 (Dense)             (None, 100)               1500      \n",
      "                                                                 \n",
      " dense_2 (Dense)             (None, 100)               10100     \n",
      "                                                                 \n",
      " dense_3 (Dense)             (None, 100)               10100     \n",
      "                                                                 \n",
      " dense_4 (Dense)             (None, 4)                 404       \n",
      "                                                                 \n",
      "=================================================================\n",
      "Total params: 22,314\n",
      "Trainable params: 22,314\n",
      "Non-trainable params: 0\n",
      "_________________________________________________________________\n"
     ]
    }
   ],
   "source": [
    "md.summary()"
   ]
  },
  {
   "cell_type": "code",
   "execution_count": 38,
   "id": "3dd9c440",
   "metadata": {},
   "outputs": [],
   "source": [
    "md.compile(optimizer='rmsprop', \n",
    "                 loss='categorical_crossentropy',\n",
    "                 metrics=['accuracy'])"
   ]
  },
  {
   "cell_type": "code",
   "execution_count": 39,
   "id": "e49fb085",
   "metadata": {},
   "outputs": [],
   "source": [
    "from sklearn.model_selection import train_test_split\n",
    "\n",
    "X_train_train,X_val,y_train_train,y_val = train_test_split(X_train, y_train,\n",
    "                                                          test_size=.2,\n",
    "                                                          shuffle=True,\n",
    "                                                          stratify=y_train,\n",
    "                                                          random_state=440)"
   ]
  },
  {
   "cell_type": "code",
   "execution_count": 40,
   "id": "4d5d0e5f",
   "metadata": {
    "scrolled": true
   },
   "outputs": [
    {
     "name": "stdout",
     "output_type": "stream",
     "text": [
      "Epoch 1/100\n",
      "19/19 [==============================] - 2s 23ms/step - loss: 1.2939 - accuracy: 0.3658 - val_loss: 1.2060 - val_accuracy: 0.4246\n",
      "Epoch 2/100\n",
      "19/19 [==============================] - 0s 6ms/step - loss: 1.1816 - accuracy: 0.4264 - val_loss: 1.1492 - val_accuracy: 0.4280\n",
      "Epoch 3/100\n",
      "19/19 [==============================] - 0s 7ms/step - loss: 1.1419 - accuracy: 0.4415 - val_loss: 1.1174 - val_accuracy: 0.4629\n",
      "Epoch 4/100\n",
      "19/19 [==============================] - 0s 7ms/step - loss: 1.1116 - accuracy: 0.4584 - val_loss: 1.0930 - val_accuracy: 0.4444\n",
      "Epoch 5/100\n",
      "19/19 [==============================] - 0s 7ms/step - loss: 1.0968 - accuracy: 0.4701 - val_loss: 1.0812 - val_accuracy: 0.4962\n",
      "Epoch 6/100\n",
      "19/19 [==============================] - 0s 7ms/step - loss: 1.0856 - accuracy: 0.4820 - val_loss: 1.0587 - val_accuracy: 0.4853\n",
      "Epoch 7/100\n",
      "19/19 [==============================] - 0s 7ms/step - loss: 1.0716 - accuracy: 0.4844 - val_loss: 1.0552 - val_accuracy: 0.4874\n",
      "Epoch 8/100\n",
      "19/19 [==============================] - 0s 7ms/step - loss: 1.0649 - accuracy: 0.4941 - val_loss: 1.0656 - val_accuracy: 0.5059\n",
      "Epoch 9/100\n",
      "19/19 [==============================] - 0s 7ms/step - loss: 1.0593 - accuracy: 0.5054 - val_loss: 1.0444 - val_accuracy: 0.5021\n",
      "Epoch 10/100\n",
      "19/19 [==============================] - 0s 7ms/step - loss: 1.0515 - accuracy: 0.5129 - val_loss: 1.0429 - val_accuracy: 0.5185\n",
      "Epoch 11/100\n",
      "19/19 [==============================] - 0s 7ms/step - loss: 1.0489 - accuracy: 0.5176 - val_loss: 1.0356 - val_accuracy: 0.5215\n",
      "Epoch 12/100\n",
      "19/19 [==============================] - 0s 8ms/step - loss: 1.0391 - accuracy: 0.5282 - val_loss: 1.0281 - val_accuracy: 0.5185\n",
      "Epoch 13/100\n",
      "19/19 [==============================] - 0s 7ms/step - loss: 1.0440 - accuracy: 0.5260 - val_loss: 1.0440 - val_accuracy: 0.5025\n",
      "Epoch 14/100\n",
      "19/19 [==============================] - 0s 6ms/step - loss: 1.0307 - accuracy: 0.5349 - val_loss: 1.0508 - val_accuracy: 0.5261\n",
      "Epoch 15/100\n",
      "19/19 [==============================] - 0s 7ms/step - loss: 1.0325 - accuracy: 0.5343 - val_loss: 1.0179 - val_accuracy: 0.5480\n",
      "Epoch 16/100\n",
      "19/19 [==============================] - 0s 8ms/step - loss: 1.0266 - accuracy: 0.5339 - val_loss: 1.0159 - val_accuracy: 0.5409\n",
      "Epoch 17/100\n",
      "19/19 [==============================] - 0s 8ms/step - loss: 1.0222 - accuracy: 0.5395 - val_loss: 1.0065 - val_accuracy: 0.5628\n",
      "Epoch 18/100\n",
      "19/19 [==============================] - 0s 8ms/step - loss: 1.0196 - accuracy: 0.5422 - val_loss: 1.0061 - val_accuracy: 0.5497\n",
      "Epoch 19/100\n",
      "19/19 [==============================] - 0s 6ms/step - loss: 1.0154 - accuracy: 0.5436 - val_loss: 1.0190 - val_accuracy: 0.5388\n",
      "Epoch 20/100\n",
      "19/19 [==============================] - 0s 7ms/step - loss: 1.0120 - accuracy: 0.5502 - val_loss: 1.0039 - val_accuracy: 0.5594\n",
      "Epoch 21/100\n",
      "19/19 [==============================] - 0s 6ms/step - loss: 1.0109 - accuracy: 0.5531 - val_loss: 0.9982 - val_accuracy: 0.5556\n",
      "Epoch 22/100\n",
      "19/19 [==============================] - 0s 7ms/step - loss: 1.0054 - accuracy: 0.5518 - val_loss: 0.9954 - val_accuracy: 0.5703\n",
      "Epoch 23/100\n",
      "19/19 [==============================] - 0s 7ms/step - loss: 1.0051 - accuracy: 0.5601 - val_loss: 0.9916 - val_accuracy: 0.5737\n",
      "Epoch 24/100\n",
      "19/19 [==============================] - 0s 8ms/step - loss: 0.9993 - accuracy: 0.5645 - val_loss: 0.9925 - val_accuracy: 0.5619\n",
      "Epoch 25/100\n",
      "19/19 [==============================] - 0s 7ms/step - loss: 0.9985 - accuracy: 0.5574 - val_loss: 1.0095 - val_accuracy: 0.5577\n",
      "Epoch 26/100\n",
      "19/19 [==============================] - 0s 7ms/step - loss: 0.9996 - accuracy: 0.5616 - val_loss: 0.9858 - val_accuracy: 0.5708\n",
      "Epoch 27/100\n",
      "19/19 [==============================] - 0s 7ms/step - loss: 0.9897 - accuracy: 0.5664 - val_loss: 1.0148 - val_accuracy: 0.5417\n",
      "Epoch 28/100\n",
      "19/19 [==============================] - 0s 6ms/step - loss: 0.9907 - accuracy: 0.5685 - val_loss: 0.9816 - val_accuracy: 0.5805\n",
      "Epoch 29/100\n",
      "19/19 [==============================] - 0s 7ms/step - loss: 0.9887 - accuracy: 0.5658 - val_loss: 0.9733 - val_accuracy: 0.5851\n",
      "Epoch 30/100\n",
      "19/19 [==============================] - 0s 10ms/step - loss: 0.9805 - accuracy: 0.5746 - val_loss: 0.9884 - val_accuracy: 0.5666\n",
      "Epoch 31/100\n",
      "19/19 [==============================] - 0s 7ms/step - loss: 0.9872 - accuracy: 0.5667 - val_loss: 1.0017 - val_accuracy: 0.5548\n",
      "Epoch 32/100\n",
      "19/19 [==============================] - 0s 7ms/step - loss: 0.9880 - accuracy: 0.5646 - val_loss: 0.9751 - val_accuracy: 0.5712\n",
      "Epoch 33/100\n",
      "19/19 [==============================] - 0s 6ms/step - loss: 0.9751 - accuracy: 0.5835 - val_loss: 1.0012 - val_accuracy: 0.5577\n",
      "Epoch 34/100\n",
      "19/19 [==============================] - 0s 8ms/step - loss: 0.9765 - accuracy: 0.5753 - val_loss: 0.9808 - val_accuracy: 0.5775\n",
      "Epoch 35/100\n",
      "19/19 [==============================] - 0s 7ms/step - loss: 0.9764 - accuracy: 0.5751 - val_loss: 0.9756 - val_accuracy: 0.5783\n",
      "Epoch 36/100\n",
      "19/19 [==============================] - 0s 7ms/step - loss: 0.9768 - accuracy: 0.5737 - val_loss: 0.9714 - val_accuracy: 0.5859\n",
      "Epoch 37/100\n",
      "19/19 [==============================] - 0s 6ms/step - loss: 0.9725 - accuracy: 0.5769 - val_loss: 0.9654 - val_accuracy: 0.5868\n",
      "Epoch 38/100\n",
      "19/19 [==============================] - 0s 7ms/step - loss: 0.9702 - accuracy: 0.5778 - val_loss: 0.9938 - val_accuracy: 0.5691\n",
      "Epoch 39/100\n",
      "19/19 [==============================] - 0s 7ms/step - loss: 0.9659 - accuracy: 0.5832 - val_loss: 0.9575 - val_accuracy: 0.5889\n",
      "Epoch 40/100\n",
      "19/19 [==============================] - 0s 7ms/step - loss: 0.9650 - accuracy: 0.5818 - val_loss: 0.9545 - val_accuracy: 0.6015\n",
      "Epoch 41/100\n",
      "19/19 [==============================] - 0s 7ms/step - loss: 0.9637 - accuracy: 0.5881 - val_loss: 0.9708 - val_accuracy: 0.5817\n",
      "Epoch 42/100\n",
      "19/19 [==============================] - 0s 7ms/step - loss: 0.9645 - accuracy: 0.5855 - val_loss: 0.9844 - val_accuracy: 0.5741\n",
      "Epoch 43/100\n",
      "19/19 [==============================] - 0s 6ms/step - loss: 0.9576 - accuracy: 0.5913 - val_loss: 0.9591 - val_accuracy: 0.5901\n",
      "Epoch 44/100\n",
      "19/19 [==============================] - 0s 7ms/step - loss: 0.9601 - accuracy: 0.5847 - val_loss: 0.9710 - val_accuracy: 0.5716\n",
      "Epoch 45/100\n",
      "19/19 [==============================] - 0s 7ms/step - loss: 0.9530 - accuracy: 0.5926 - val_loss: 0.9817 - val_accuracy: 0.5720\n",
      "Epoch 46/100\n",
      "19/19 [==============================] - 0s 7ms/step - loss: 0.9556 - accuracy: 0.5857 - val_loss: 0.9584 - val_accuracy: 0.5986\n",
      "Epoch 47/100\n",
      "19/19 [==============================] - 0s 8ms/step - loss: 0.9527 - accuracy: 0.5909 - val_loss: 0.9472 - val_accuracy: 0.5944\n",
      "Epoch 48/100\n",
      "19/19 [==============================] - 0s 8ms/step - loss: 0.9516 - accuracy: 0.5941 - val_loss: 0.9489 - val_accuracy: 0.5973\n",
      "Epoch 49/100\n",
      "19/19 [==============================] - 0s 8ms/step - loss: 0.9509 - accuracy: 0.5895 - val_loss: 0.9708 - val_accuracy: 0.5800\n",
      "Epoch 50/100\n",
      "19/19 [==============================] - 0s 8ms/step - loss: 0.9506 - accuracy: 0.5958 - val_loss: 0.9464 - val_accuracy: 0.6053\n",
      "Epoch 51/100\n",
      "19/19 [==============================] - 0s 7ms/step - loss: 0.9482 - accuracy: 0.5913 - val_loss: 0.9809 - val_accuracy: 0.5687\n",
      "Epoch 52/100\n",
      "19/19 [==============================] - 0s 8ms/step - loss: 0.9450 - accuracy: 0.5892 - val_loss: 0.9732 - val_accuracy: 0.5809\n",
      "Epoch 53/100\n",
      "19/19 [==============================] - 0s 7ms/step - loss: 0.9413 - accuracy: 0.5960 - val_loss: 0.9689 - val_accuracy: 0.5758\n",
      "Epoch 54/100\n",
      "19/19 [==============================] - 0s 7ms/step - loss: 0.9474 - accuracy: 0.5933 - val_loss: 0.9420 - val_accuracy: 0.5969\n",
      "Epoch 55/100\n",
      "19/19 [==============================] - 0s 7ms/step - loss: 0.9358 - accuracy: 0.5982 - val_loss: 0.9483 - val_accuracy: 0.5931\n",
      "Epoch 56/100\n",
      "19/19 [==============================] - 0s 6ms/step - loss: 0.9435 - accuracy: 0.5957 - val_loss: 0.9442 - val_accuracy: 0.6024\n",
      "Epoch 57/100\n",
      "19/19 [==============================] - 0s 6ms/step - loss: 0.9336 - accuracy: 0.6033 - val_loss: 0.9457 - val_accuracy: 0.5998\n",
      "Epoch 58/100\n",
      "19/19 [==============================] - 0s 7ms/step - loss: 0.9406 - accuracy: 0.5937 - val_loss: 0.9401 - val_accuracy: 0.6083\n"
     ]
    },
    {
     "name": "stdout",
     "output_type": "stream",
     "text": [
      "Epoch 59/100\n",
      "19/19 [==============================] - 0s 6ms/step - loss: 0.9376 - accuracy: 0.5941 - val_loss: 0.9357 - val_accuracy: 0.6074\n",
      "Epoch 60/100\n",
      "19/19 [==============================] - 0s 7ms/step - loss: 0.9334 - accuracy: 0.5982 - val_loss: 0.9546 - val_accuracy: 0.5872\n",
      "Epoch 61/100\n",
      "19/19 [==============================] - 0s 7ms/step - loss: 0.9342 - accuracy: 0.5977 - val_loss: 0.9573 - val_accuracy: 0.5842\n",
      "Epoch 62/100\n",
      "19/19 [==============================] - 0s 6ms/step - loss: 0.9317 - accuracy: 0.6017 - val_loss: 0.9730 - val_accuracy: 0.5788\n",
      "Epoch 63/100\n",
      "19/19 [==============================] - 0s 6ms/step - loss: 0.9321 - accuracy: 0.6005 - val_loss: 0.9328 - val_accuracy: 0.6024\n",
      "Epoch 64/100\n",
      "19/19 [==============================] - 0s 6ms/step - loss: 0.9303 - accuracy: 0.5967 - val_loss: 0.9584 - val_accuracy: 0.5868\n",
      "Epoch 65/100\n",
      "19/19 [==============================] - 0s 6ms/step - loss: 0.9266 - accuracy: 0.6034 - val_loss: 0.9510 - val_accuracy: 0.5977\n",
      "Epoch 66/100\n",
      "19/19 [==============================] - 0s 6ms/step - loss: 0.9267 - accuracy: 0.6007 - val_loss: 0.9323 - val_accuracy: 0.6007\n",
      "Epoch 67/100\n",
      "19/19 [==============================] - 0s 6ms/step - loss: 0.9295 - accuracy: 0.5981 - val_loss: 0.9550 - val_accuracy: 0.5931\n",
      "Epoch 68/100\n",
      "19/19 [==============================] - 0s 6ms/step - loss: 0.9238 - accuracy: 0.6025 - val_loss: 0.9434 - val_accuracy: 0.5939\n",
      "Epoch 69/100\n",
      "19/19 [==============================] - 0s 6ms/step - loss: 0.9243 - accuracy: 0.6029 - val_loss: 0.9320 - val_accuracy: 0.6074\n",
      "Epoch 70/100\n",
      "19/19 [==============================] - 0s 6ms/step - loss: 0.9268 - accuracy: 0.6037 - val_loss: 0.9441 - val_accuracy: 0.5969\n",
      "Epoch 71/100\n",
      "19/19 [==============================] - 0s 6ms/step - loss: 0.9195 - accuracy: 0.6041 - val_loss: 0.9561 - val_accuracy: 0.5830\n",
      "Epoch 72/100\n",
      "19/19 [==============================] - 0s 6ms/step - loss: 0.9230 - accuracy: 0.6014 - val_loss: 0.9536 - val_accuracy: 0.5901\n",
      "Epoch 73/100\n",
      "19/19 [==============================] - 0s 6ms/step - loss: 0.9183 - accuracy: 0.6049 - val_loss: 0.9415 - val_accuracy: 0.5990\n",
      "Epoch 74/100\n",
      "19/19 [==============================] - 0s 6ms/step - loss: 0.9204 - accuracy: 0.6064 - val_loss: 0.9534 - val_accuracy: 0.5868\n",
      "Epoch 75/100\n",
      "19/19 [==============================] - 0s 6ms/step - loss: 0.9175 - accuracy: 0.6100 - val_loss: 0.9538 - val_accuracy: 0.5885\n",
      "Epoch 76/100\n",
      "19/19 [==============================] - 0s 6ms/step - loss: 0.9183 - accuracy: 0.6075 - val_loss: 0.9409 - val_accuracy: 0.5960\n",
      "Epoch 77/100\n",
      "19/19 [==============================] - 0s 6ms/step - loss: 0.9144 - accuracy: 0.6084 - val_loss: 0.9782 - val_accuracy: 0.5767\n",
      "Epoch 78/100\n",
      "19/19 [==============================] - 0s 6ms/step - loss: 0.9191 - accuracy: 0.6016 - val_loss: 0.9329 - val_accuracy: 0.5981\n",
      "Epoch 79/100\n",
      "19/19 [==============================] - 0s 6ms/step - loss: 0.9109 - accuracy: 0.6108 - val_loss: 0.9551 - val_accuracy: 0.5851\n",
      "Epoch 80/100\n",
      "19/19 [==============================] - 0s 6ms/step - loss: 0.9159 - accuracy: 0.6043 - val_loss: 0.9420 - val_accuracy: 0.5948\n",
      "Epoch 81/100\n",
      "19/19 [==============================] - 0s 6ms/step - loss: 0.9164 - accuracy: 0.6037 - val_loss: 0.9421 - val_accuracy: 0.5906\n",
      "Epoch 82/100\n",
      "19/19 [==============================] - 0s 6ms/step - loss: 0.9092 - accuracy: 0.6100 - val_loss: 0.9295 - val_accuracy: 0.6066\n",
      "Epoch 83/100\n",
      "19/19 [==============================] - 0s 6ms/step - loss: 0.9116 - accuracy: 0.6104 - val_loss: 0.9392 - val_accuracy: 0.5990\n",
      "Epoch 84/100\n",
      "19/19 [==============================] - 0s 6ms/step - loss: 0.9083 - accuracy: 0.6127 - val_loss: 0.9322 - val_accuracy: 0.5977\n",
      "Epoch 85/100\n",
      "19/19 [==============================] - 0s 6ms/step - loss: 0.9054 - accuracy: 0.6095 - val_loss: 0.9508 - val_accuracy: 0.5918\n",
      "Epoch 86/100\n",
      "19/19 [==============================] - 0s 6ms/step - loss: 0.9070 - accuracy: 0.6092 - val_loss: 0.9255 - val_accuracy: 0.6003\n",
      "Epoch 87/100\n",
      "19/19 [==============================] - 0s 6ms/step - loss: 0.9090 - accuracy: 0.6113 - val_loss: 0.9573 - val_accuracy: 0.5864\n",
      "Epoch 88/100\n",
      "19/19 [==============================] - 0s 6ms/step - loss: 0.9072 - accuracy: 0.6094 - val_loss: 0.9179 - val_accuracy: 0.6150\n",
      "Epoch 89/100\n",
      "19/19 [==============================] - 0s 6ms/step - loss: 0.9047 - accuracy: 0.6108 - val_loss: 0.9368 - val_accuracy: 0.5914\n",
      "Epoch 90/100\n",
      "19/19 [==============================] - 0s 6ms/step - loss: 0.9014 - accuracy: 0.6154 - val_loss: 0.9542 - val_accuracy: 0.5910\n",
      "Epoch 91/100\n",
      "19/19 [==============================] - 0s 6ms/step - loss: 0.9053 - accuracy: 0.6102 - val_loss: 0.9565 - val_accuracy: 0.5893\n",
      "Epoch 92/100\n",
      "19/19 [==============================] - 0s 6ms/step - loss: 0.8996 - accuracy: 0.6139 - val_loss: 0.9169 - val_accuracy: 0.6137\n",
      "Epoch 93/100\n",
      "19/19 [==============================] - 0s 6ms/step - loss: 0.8998 - accuracy: 0.6159 - val_loss: 0.9294 - val_accuracy: 0.6011\n",
      "Epoch 94/100\n",
      "19/19 [==============================] - 0s 6ms/step - loss: 0.9004 - accuracy: 0.6130 - val_loss: 0.9234 - val_accuracy: 0.6078\n",
      "Epoch 95/100\n",
      "19/19 [==============================] - 0s 6ms/step - loss: 0.8965 - accuracy: 0.6145 - val_loss: 0.9437 - val_accuracy: 0.5944\n",
      "Epoch 96/100\n",
      "19/19 [==============================] - 0s 6ms/step - loss: 0.9032 - accuracy: 0.6108 - val_loss: 0.9426 - val_accuracy: 0.5935\n",
      "Epoch 97/100\n",
      "19/19 [==============================] - 0s 6ms/step - loss: 0.8950 - accuracy: 0.6138 - val_loss: 0.9272 - val_accuracy: 0.6070\n",
      "Epoch 98/100\n",
      "19/19 [==============================] - 0s 6ms/step - loss: 0.8973 - accuracy: 0.6159 - val_loss: 0.9172 - val_accuracy: 0.6095\n",
      "Epoch 99/100\n",
      "19/19 [==============================] - 0s 7ms/step - loss: 0.8999 - accuracy: 0.6106 - val_loss: 0.9182 - val_accuracy: 0.6078\n",
      "Epoch 100/100\n",
      "19/19 [==============================] - 0s 7ms/step - loss: 0.8938 - accuracy: 0.6185 - val_loss: 0.9513 - val_accuracy: 0.5918\n"
     ]
    }
   ],
   "source": [
    "n_epochs = 100\n",
    "batch_size = 512\n",
    "\n",
    "\n",
    "\n",
    "history = md.fit(X_train_train, to_categorical(y_train_train),\n",
    "                       epochs = n_epochs,\n",
    "                       batch_size = batch_size,\n",
    "                       validation_data = (X_val, to_categorical(y_val)))"
   ]
  },
  {
   "cell_type": "code",
   "execution_count": 41,
   "id": "69116f49",
   "metadata": {},
   "outputs": [],
   "source": [
    "history_dict = history.history"
   ]
  },
  {
   "cell_type": "code",
   "execution_count": 42,
   "id": "82fb2247",
   "metadata": {},
   "outputs": [
    {
     "data": {
      "image/png": "[encoded data removed]",
      "text/plain": [
       "<Figure size 1008x432 with 1 Axes>"
      ]
     },
     "metadata": {},
     "output_type": "display_data"
    },
    {
     "data": {
      "image/png": "[encoded data removed]",
      "text/plain": [
       "<Figure size 1008x432 with 1 Axes>"
      ]
     },
     "metadata": {},
     "output_type": "display_data"
    }
   ],
   "source": [
    "plt.figure(figsize = (14,6))\n",
    "\n",
    "plt.scatter(range(1,n_epochs+1), history_dict['accuracy'], label = \"Training Accuracy\")\n",
    "plt.scatter(range(1,n_epochs+1), history_dict['val_accuracy'], marker='v', label = \"Validation Set Accuracy\")\n",
    "\n",
    "plt.xlabel(\"Epoch\", fontsize=18)\n",
    "plt.ylabel(\"Accuracy\", fontsize=18)\n",
    "\n",
    "plt.xticks(fontsize=16)\n",
    "plt.yticks(fontsize=16)\n",
    "\n",
    "plt.legend(fontsize=18)\n",
    "\n",
    "plt.show()\n",
    "\n",
    "\n",
    "plt.figure(figsize = (14,6))\n",
    "\n",
    "plt.scatter(range(1,n_epochs+1), history_dict['loss'], label = \"Training Loss\")\n",
    "plt.scatter(range(1,n_epochs+1), history_dict['val_loss'], marker='v', label = \"Validation Set Loss\")\n",
    "\n",
    "plt.xlabel(\"Epoch\", fontsize=18)\n",
    "plt.ylabel(\"Loss Function Value\", fontsize=18)\n",
    "\n",
    "plt.xticks(fontsize=16)\n",
    "plt.yticks(fontsize=16)\n",
    "\n",
    "plt.legend(fontsize=18)\n",
    "\n",
    "plt.show()"
   ]
  },
  {
   "cell_type": "code",
   "execution_count": 43,
   "id": "450d222c",
   "metadata": {},
   "outputs": [
    {
     "name": "stdout",
     "output_type": "stream",
     "text": [
      "371/371 [==============================] - 1s 1ms/step\n"
     ]
    },
    {
     "data": {
      "text/plain": [
       "array([0, 0, 1, ..., 1, 3, 0], dtype=int64)"
      ]
     },
     "execution_count": 43,
     "metadata": {},
     "output_type": "execute_result"
    }
   ],
   "source": [
    "pred=np.argmax(md.predict(X_train), axis=1)\n",
    "pred"
   ]
  },
  {
   "cell_type": "code",
   "execution_count": 46,
   "id": "7883e5ed",
   "metadata": {},
   "outputs": [
    {
     "name": "stdout",
     "output_type": "stream",
     "text": [
      "93/93 [==============================] - 0s 1ms/step\n",
      "Testing accuracy: 57.38\n",
      "371/371 [==============================] - 0s 1ms/step\n",
      "Training accuracy: 60.15\n"
     ]
    }
   ],
   "source": [
    "from sklearn.metrics import accuracy_score\n",
    "print('Testing accuracy:',np.round(100*accuracy_score(y_test, np.argmax(md.predict(X_test), axis=1)),2))\n",
    "print('Training accuracy:',np.round(100*accuracy_score(y_train, np.argmax(md.predict(X_train), axis=1)),2))"
   ]
  },
  {
   "cell_type": "code",
   "execution_count": 47,
   "id": "c9fa4c3e",
   "metadata": {},
   "outputs": [
    {
     "name": "stdout",
     "output_type": "stream",
     "text": [
      "371/371 [==============================] - 0s 1ms/step\n"
     ]
    },
    {
     "data": {
      "text/html": [
       "<div>\n",
       "<style scoped>\n",
       "    .dataframe tbody tr th:only-of-type {\n",
       "        vertical-align: middle;\n",
       "    }\n",
       "\n",
       "    .dataframe tbody tr th {\n",
       "        vertical-align: top;\n",
       "    }\n",
       "\n",
       "    .dataframe thead th {\n",
       "        text-align: right;\n",
       "    }\n",
       "</style>\n",
       "<table border=\"1\" class=\"dataframe\">\n",
       "  <thead>\n",
       "    <tr style=\"text-align: right;\">\n",
       "      <th></th>\n",
       "      <th>Predicted 0</th>\n",
       "      <th>Predicted 1</th>\n",
       "      <th>Predicted 2</th>\n",
       "      <th>Predicted 3</th>\n",
       "    </tr>\n",
       "  </thead>\n",
       "  <tbody>\n",
       "    <tr>\n",
       "      <th>Actual 0</th>\n",
       "      <td>1582</td>\n",
       "      <td>344</td>\n",
       "      <td>199</td>\n",
       "      <td>512</td>\n",
       "    </tr>\n",
       "    <tr>\n",
       "      <th>Actual 1</th>\n",
       "      <td>341</td>\n",
       "      <td>2094</td>\n",
       "      <td>216</td>\n",
       "      <td>321</td>\n",
       "    </tr>\n",
       "    <tr>\n",
       "      <th>Actual 2</th>\n",
       "      <td>451</td>\n",
       "      <td>1029</td>\n",
       "      <td>1742</td>\n",
       "      <td>525</td>\n",
       "    </tr>\n",
       "    <tr>\n",
       "      <th>Actual 3</th>\n",
       "      <td>302</td>\n",
       "      <td>404</td>\n",
       "      <td>85</td>\n",
       "      <td>1721</td>\n",
       "    </tr>\n",
       "  </tbody>\n",
       "</table>\n",
       "</div>"
      ],
      "text/plain": [
       "          Predicted 0  Predicted 1  Predicted 2  Predicted 3\n",
       "Actual 0         1582          344          199          512\n",
       "Actual 1          341         2094          216          321\n",
       "Actual 2          451         1029         1742          525\n",
       "Actual 3          302          404           85         1721"
      ]
     },
     "execution_count": 47,
     "metadata": {},
     "output_type": "execute_result"
    }
   ],
   "source": [
    "from sklearn.metrics import confusion_matrix\n",
    "conf_mat = confusion_matrix(y_train,np.argmax(md.predict(X_train), axis=1))\n",
    "pd.DataFrame(conf_mat,\n",
    "                 columns = ['Predicted 0', 'Predicted 1', 'Predicted 2','Predicted 3'],\n",
    "                 index = ['Actual 0', 'Actual 1', 'Actual 2','Actual 3'])"
   ]
  },
  {
   "cell_type": "code",
   "execution_count": 48,
   "id": "60ab45f5",
   "metadata": {},
   "outputs": [
    {
     "name": "stdout",
     "output_type": "stream",
     "text": [
      "93/93 [==============================] - 0s 1ms/step\n"
     ]
    },
    {
     "data": {
      "text/html": [
       "<div>\n",
       "<style scoped>\n",
       "    .dataframe tbody tr th:only-of-type {\n",
       "        vertical-align: middle;\n",
       "    }\n",
       "\n",
       "    .dataframe tbody tr th {\n",
       "        vertical-align: top;\n",
       "    }\n",
       "\n",
       "    .dataframe thead th {\n",
       "        text-align: right;\n",
       "    }\n",
       "</style>\n",
       "<table border=\"1\" class=\"dataframe\">\n",
       "  <thead>\n",
       "    <tr style=\"text-align: right;\">\n",
       "      <th></th>\n",
       "      <th>Predicted 0</th>\n",
       "      <th>Predicted 1</th>\n",
       "      <th>Predicted 2</th>\n",
       "      <th>Predicted 3</th>\n",
       "    </tr>\n",
       "  </thead>\n",
       "  <tbody>\n",
       "    <tr>\n",
       "      <th>Actual 0</th>\n",
       "      <td>376</td>\n",
       "      <td>99</td>\n",
       "      <td>57</td>\n",
       "      <td>128</td>\n",
       "    </tr>\n",
       "    <tr>\n",
       "      <th>Actual 1</th>\n",
       "      <td>105</td>\n",
       "      <td>505</td>\n",
       "      <td>63</td>\n",
       "      <td>70</td>\n",
       "    </tr>\n",
       "    <tr>\n",
       "      <th>Actual 2</th>\n",
       "      <td>107</td>\n",
       "      <td>284</td>\n",
       "      <td>416</td>\n",
       "      <td>130</td>\n",
       "    </tr>\n",
       "    <tr>\n",
       "      <th>Actual 3</th>\n",
       "      <td>78</td>\n",
       "      <td>115</td>\n",
       "      <td>29</td>\n",
       "      <td>406</td>\n",
       "    </tr>\n",
       "  </tbody>\n",
       "</table>\n",
       "</div>"
      ],
      "text/plain": [
       "          Predicted 0  Predicted 1  Predicted 2  Predicted 3\n",
       "Actual 0          376           99           57          128\n",
       "Actual 1          105          505           63           70\n",
       "Actual 2          107          284          416          130\n",
       "Actual 3           78          115           29          406"
      ]
     },
     "execution_count": 48,
     "metadata": {},
     "output_type": "execute_result"
    }
   ],
   "source": [
    "from sklearn.metrics import confusion_matrix\n",
    "conf_mat = confusion_matrix(y_test,np.argmax(md.predict(X_test), axis=1))\n",
    "pd.DataFrame(conf_mat,\n",
    "                 columns = ['Predicted 0', 'Predicted 1', 'Predicted 2','Predicted 3'],\n",
    "                 index = ['Actual 0', 'Actual 1', 'Actual 2','Actual 3'])"
   ]
  },
  {
   "cell_type": "code",
   "execution_count": null,
   "id": "d501022f",
   "metadata": {},
   "outputs": [],
   "source": []
  },
  {
   "cell_type": "code",
   "execution_count": null,
   "id": "0a60357c",
   "metadata": {},
   "outputs": [],
   "source": []
  }
 ],
 "metadata": {
  "kernelspec": {
   "display_name": "Python 3 (ipykernel)",
   "language": "python",
   "name": "python3"
  },
  "language_info": {
   "codemirror_mode": {
    "name": "ipython",
    "version": 3
   },
   "file_extension": ".py",
   "mimetype": "text/x-python",
   "name": "python",
   "nbconvert_exporter": "python",
   "pygments_lexer": "ipython3",
   "version": "3.9.12"
  }
 },
 "nbformat": 4,
 "nbformat_minor": 5
}
